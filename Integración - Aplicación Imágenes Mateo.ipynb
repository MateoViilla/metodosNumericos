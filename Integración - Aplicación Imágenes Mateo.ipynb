{
 "cells": [
  {
   "cell_type": "markdown",
   "metadata": {},
   "source": [
    "# Integración Numérica - Aplicación en imágenes\n",
    "\n",
    "Ya hemos comprobado la utilidad de los métodos de interpolación y de los métodos de detección de cruces por cero para encontrar parámetros de las imágenes que nos son de utilidad, como las partes faltantes y los bordes. ¿Qué pasa cuándo se integra una imagen?"
   ]
  },
  {
   "cell_type": "markdown",
   "metadata": {},
   "source": [
    "** Actividad 1**\n",
    "\n",
    "Para la actividad  sigue los pasos:\n",
    "\n",
    "1. Selecciona una imagen a color de tu preferencia\n",
    "2. Para cada uno de los canales, encuentra la integral numérica por filas con al menos dos métodos compuestos. Recuerda que el valor de la función evaluada en un punto es equivalente al valor de intensidad del píxel en ese mismo punto. \n",
    "3. Cambia los límites de integración (toma segmentos de 5,10,15 y 20 píxeles). Los límites de integración son las x, o sea el índice del píxel. El valor de intensidad es f(x) en ese píxel.\n",
    "4. Junta los canales nuevamente para que obtengas una nueva imagen.\n",
    "5. ¿Qué imagen observas para cada opción de segmentos?. ¿Cuál es la diferencia entre las imágenes?"
   ]
  },
  {
   "cell_type": "code",
   "execution_count": 1,
   "metadata": {},
   "outputs": [
    {
     "data": {
      "text/plain": [
       "<Figure size 640x480 with 1 Axes>"
      ]
     },
     "metadata": {},
     "output_type": "display_data"
    }
   ],
   "source": [
    "#espacio para la solución de la actividad 1\n",
    "import scipy as sp #librería de señales\n",
    "import numpy as np #librería numérica\n",
    "import matplotlib.pyplot as plt #librería de graficación\n",
    "import cv2\n",
    "from sympy import *\n",
    "import scipy.ndimage as nd\n",
    "import math\n",
    "import copy\n",
    "nuevaImagen = []\n",
    "img= cv2.imread('picachu.png',1) # cargamos una imagen de muestra que se encuentra en la librería scipy\n",
    "Blue = img[:,:,0]\n",
    "Green = img[:,:,1]\n",
    "Red =  img[:,:,2]\n",
    "\n",
    "plt.imshow(img) #visualización de la imagen\n",
    "plt.show()\n",
    "cv2.imshow('imagen',img)\n",
    "cv2.waitKey(0) & 0xFF \n",
    "cv2.destroyAllWindows()"
   ]
  },
  {
   "cell_type": "code",
   "execution_count": 2,
   "metadata": {},
   "outputs": [
    {
     "data": {
      "image/png": "[encoded data removed]",
      "text/plain": [
       "<Figure size 432x288 with 1 Axes>"
      ]
     },
     "metadata": {},
     "output_type": "display_data"
    }
   ],
   "source": [
    "nuevaImagen = np.zeros((img.shape[0],img.shape[1],3), np.uint8) #crea una imagen negra\n",
    "plt.imshow(nuevaImagen) #visualización de la imagen\n",
    "plt.show()"
   ]
  },
  {
   "cell_type": "code",
   "execution_count": 4,
   "metadata": {},
   "outputs": [],
   "source": [
    "def metodoLagrange(datos):\n",
    "    pixel = 0\n",
    "    grado = len(datos)\n",
    "    x = Symbol('x')\n",
    "    for k in range(grado):\n",
    "            productoria = 1\n",
    "            for i in range(grado):\n",
    "                if (i != k) and i != (x-1):\n",
    "                    productoria *= ((x) - (i+1))/((k+1) - (i+1))\n",
    "            productoria = productoria * datos[k]        \n",
    "            pixel += productoria\n",
    "\n",
    "    return pixel\n"
   ]
  },
  {
   "cell_type": "code",
   "execution_count": 5,
   "metadata": {},
   "outputs": [],
   "source": [
    "def trapecioCompuesto(funcion,punto_inicial,punto_final,M):\n",
    "    fun = vars(math)\n",
    "    h = (punto_final - punto_inicial)/M\n",
    "    suma = eval(funcion,fun,{'x':punto_inicial})\n",
    "    \n",
    "    for i in range(0,M-1):\n",
    "        punto_inicial = punto_inicial + h\n",
    "        suma = suma + 2 * eval(funcion,fun,{'x':punto_inicial})\n",
    "    suma = suma + eval(funcion,fun,{'x':punto_final})\n",
    "    I= h *(suma/2)\n",
    "    return I  "
   ]
  },
  {
   "cell_type": "code",
   "execution_count": 9,
   "metadata": {},
   "outputs": [],
   "source": [
    "#espacios para la implementación de los métodos\n",
    "def metodoTrapecioCompuesto(segmento, a, b, M):\n",
    "    fun = vars(math)\n",
    "    integral = 0 \n",
    "    h = (b-a)/M\n",
    "    \n",
    "    for i in range(0,M-1):\n",
    "        \n",
    "        y0 = segmento[ int(a + i*h) ]\n",
    "        y1 = segmento[ int(a + (i+1) * h) ]\n",
    "        integral += (h/2)*(y0 + y1)\n",
    "        \n",
    "    return int(integral)"
   ]
  },
  {
   "cell_type": "code",
   "execution_count": 6,
   "metadata": {},
   "outputs": [],
   "source": [
    "#con la funcion\n",
    "tSegmento = 5\n",
    "for i in range(Blue.shape[0]):\n",
    "    for j in range(0,Blue.shape[1], tSegmento):\n",
    "        #print(\"j:\" , j)\n",
    "        \n",
    "        if ((j+tSegmento) <= Blue.shape[1]):\n",
    "            #Azul\n",
    "            segmento = Blue[i, j:j+tSegmento]\n",
    "            funcion = (metodoLagrange(segmento))\n",
    "            integral = trapecioCompuesto(str(funcion), 0, len(segmento), 3)\n",
    "            valorAsignar = int(integral/len(segmento))\n",
    "            #print(segmento)\n",
    "            #print(valorAsignar)\n",
    "            nuevaImagen[i,j:j+tSegmento,0] = valorAsignar\n",
    "            \n",
    "            #Verde\n",
    "            segmento = Green[i, j:j+tSegmento]\n",
    "            funcion = (metodoLagrange(segmento))\n",
    "            integral = trapecioCompuesto(str(funcion), 0, len(segmento), 3)\n",
    "            valorAsignar = int(integral/len(segmento))\n",
    "            #print(segmento)\n",
    "            #print(valorAsignar)\n",
    "            nuevaImagen[i,j:j+tSegmento,1] = valorAsignar\n",
    "            \n",
    "            #Rojo\n",
    "            segmento = Red[i, j:j+tSegmento]\n",
    "            funcion = (metodoLagrange(segmento))\n",
    "            integral = trapecioCompuesto(str(funcion), 0, len(segmento), 3)\n",
    "            valorAsignar = int(integral/len(segmento))\n",
    "            #print(segmento)\n",
    "            #print(valorAsignar)\n",
    "            nuevaImagen[i,j:j+tSegmento,2] = valorAsignar\n",
    "            \n"
   ]
  },
  {
   "cell_type": "code",
   "execution_count": 10,
   "metadata": {},
   "outputs": [
    {
     "name": "stderr",
     "output_type": "stream",
     "text": [
      "C:\\Users\\user\\Anaconda3\\lib\\site-packages\\ipykernel_launcher.py:11: RuntimeWarning: overflow encountered in ubyte_scalars\n",
      "  # This is added back by InteractiveShellApp.init_path()\n"
     ]
    }
   ],
   "source": [
    "#con el segmento \n",
    "tSegmento = 5\n",
    "for i in range(Blue.shape[0]):\n",
    "    for j in range(0,Blue.shape[1], tSegmento):\n",
    "        #print(\"j:\" , j)\n",
    "        \n",
    "        if ((j+tSegmento) <= Blue.shape[1]):\n",
    "            #Azul\n",
    "            segmento = Blue[i, j:j+tSegmento]\n",
    "            \n",
    "            integral = metodoTrapecioCompuesto(segmento, 0, len(segmento), 3)\n",
    "            valorAsignar = int(integral/len(segmento))\n",
    "            #print(segmento)\n",
    "            #print(valorAsignar)\n",
    "            nuevaImagen[i,j:j+tSegmento,0] = valorAsignar\n",
    "            \n",
    "            #Verde\n",
    "            segmento = Green[i, j:j+tSegmento]\n",
    "           \n",
    "            integral = metodoTrapecioCompuesto(segmento, 0, len(segmento), 3)\n",
    "            valorAsignar = int(integral/len(segmento))\n",
    "            #print(segmento)\n",
    "            #print(valorAsignar)\n",
    "            nuevaImagen[i,j:j+tSegmento,1] = valorAsignar\n",
    "            \n",
    "            #Rojo\n",
    "            segmento = Red[i, j:j+tSegmento]\n",
    "           \n",
    "            integral = metodoTrapecioCompuesto(segmento, 0, len(segmento), 3)\n",
    "            valorAsignar = int(integral/len(segmento))\n",
    "            #print(segmento)\n",
    "            #print(valorAsignar)\n",
    "            nuevaImagen[i,j:j+tSegmento,2] = valorAsignar\n",
    "            "
   ]
  },
  {
   "cell_type": "code",
   "execution_count": 15,
   "metadata": {},
   "outputs": [],
   "source": [
    "cv2.imshow('nuevaImagen',nuevaImagen)\n",
    "cv2.waitKey(0) & 0xFF \n",
    "cv2.destroyAllWindows()"
   ]
  }
 ],
 "metadata": {
  "kernelspec": {
   "display_name": "Python 3",
   "language": "python",
   "name": "python3"
  },
  "language_info": {
   "codemirror_mode": {
    "name": "ipython",
    "version": 3
   },
   "file_extension": ".py",
   "mimetype": "text/x-python",
   "name": "python",
   "nbconvert_exporter": "python",
   "pygments_lexer": "ipython3",
   "version": "3.6.5"
  }
 },
 "nbformat": 4,
 "nbformat_minor": 2
}
