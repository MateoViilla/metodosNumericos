{
 "cells": [
  {
   "cell_type": "markdown",
   "metadata": {},
   "source": [
    "# Integración Numérica - Aplicación en imágenes\n",
    "\n",
    "Ya hemos comprobado la utilidad de los métodos de interpolación y de los métodos de detección de cruces por cero para encontrar parámetros de las imágenes que nos son de utilidad, como las partes faltantes y los bordes. ¿Qué pasa cuándo se integra una imagen?"
   ]
  },
  {
   "cell_type": "markdown",
   "metadata": {},
   "source": [
    "** Actividad 1**\n",
    "\n",
    "Para la actividad  sigue los pasos:\n",
    "\n",
    "1. Selecciona una imagen a color de tu preferencia\n",
    "2. Para cada uno de los canales, encuentra la integral numérica por filas con al menos dos métodos compuestos. Recuerda que el valor de la función evaluada en un punto es equivalente al valor de intensidad del píxel en ese mismo punto. \n",
    "3. Cambia los límites de integración (toma segmentos de 5,10,15 y 20 píxeles). Los límites de integración son las x, o sea el índice del píxel. El valor de intensidad es f(x) en ese píxel.\n",
    "4. Junta los canales nuevamente para que obtengas una nueva imagen.\n",
    "5. ¿Qué imagen observas para cada opción de segmentos?. ¿Cuál es la diferencia entre las imágenes?"
   ]
  },
  {
   "cell_type": "code",
   "execution_count": 1,
   "metadata": {},
   "outputs": [],
   "source": [
    "#espacio para la solución de la actividad 1\n",
    "import scipy as sp #librería de señales\n",
    "import numpy as np #librería numérica\n",
    "import matplotlib.pyplot as plt #librería de graficación\n",
    "import cv2\n",
    "from sympy import *\n",
    "import scipy.ndimage as nd\n",
    "import math\n",
    "import copy\n"
   ]
  },
  {
   "cell_type": "code",
   "execution_count": 2,
   "metadata": {},
   "outputs": [],
   "source": [
    "imagen = cv2.imread('picachu.png',1)\n",
    "cv2.imshow('picachu',imagen)\n",
    "cv2.waitKey(0)\n",
    "cv2.destroyAllWindows()"
   ]
  },
  {
   "cell_type": "code",
   "execution_count": 3,
   "metadata": {
    "collapsed": true
   },
   "outputs": [],
   "source": [
    "#espacios para la implementación de los métodos\n",
    "def metodoTrapecioCompuesto(segmento, a, b, M):\n",
    "    fun = vars(math)\n",
    "    integral = 0 \n",
    "    h = (b-a)/M\n",
    "    \n",
    "    for i in range(M):\n",
    "        \n",
    "        y0 = segmento[ int(a + i*h) ]\n",
    "        y1 = segmento[ int(a + (i+1) * h) ]\n",
    "        integral += (h/2)*(y0 + y1)\n",
    "        \n",
    "    return int(integral / len(segmento) )"
   ]
  },
  {
   "cell_type": "code",
   "execution_count": 4,
   "metadata": {
    "collapsed": true
   },
   "outputs": [],
   "source": [
    "def metodoSimpson13Compuesto(segmento, a, b, M):\n",
    "    fun = vars(math)\n",
    "    integral = 0 \n",
    "    h = (b-a)/(2*M)\n",
    "    \n",
    "    for i in range(M):\n",
    "        \n",
    "        y0 = segmento[ int(a + i*h) ]\n",
    "        y1 = segmento[ int(a + (i+1) * h) ]\n",
    "        y2 = segmento[ int(a + (i+2) * h) ]\n",
    "        integral += (h/3)*(y0 + 4*y1 + y2)\n",
    "        \n",
    "    return int( integral / len(segmento) )"
   ]
  },
  {
   "cell_type": "code",
   "execution_count": 5,
   "metadata": {
    "collapsed": true
   },
   "outputs": [],
   "source": [
    "def metodoSimpson38Compuesto(segmento, a, b, M):\n",
    "    fun = vars(math)\n",
    "    integral = 0 \n",
    "    h = (b-a)/(3*M)\n",
    "    \n",
    "    for i in range(M):\n",
    "\n",
    "        y0 = segmento[ int(a + i*h) ]\n",
    "        y1 = segmento[ int(a + (i+1) * h) ]\n",
    "        y2 = segmento[ int(a + (i+2) * h) ]\n",
    "        y3 = segmento[ int(a + (i+3) * h) ]\n",
    "        \n",
    "        integral += ((3/8)*h)*(y0 + 3*y1 + 3*y2 + y3)\n",
    "        \n",
    "    return int(integral / len(segmento) )"
   ]
  },
  {
   "cell_type": "code",
   "execution_count": 3,
   "metadata": {},
   "outputs": [
    {
     "data": {
      "image/png": "[encoded data removed]",
      "text/plain": [
       "<Figure size 432x288 with 1 Axes>"
      ]
     },
     "metadata": {},
     "output_type": "display_data"
    },
    {
     "name": "stdout",
     "output_type": "stream",
     "text": [
      "(223, 299, 3)\n",
      "(223, 299, 3)\n"
     ]
    }
   ],
   "source": [
    "#solución para la actividad 1 \n",
    "imagenIntegrada = np.zeros((imagen.shape[0],imagen.shape[1],3), np.uint8) #crea una imagen negra\n",
    "plt.imshow(imagenIntegrada) #visualización de la imagen\n",
    "plt.show()\n",
    "print(imagen.shape)\n",
    "print(imagenIntegrada.shape)"
   ]
  },
  {
   "cell_type": "code",
   "execution_count": 7,
   "metadata": {
    "collapsed": true
   },
   "outputs": [],
   "source": [
    "def asignarValorDeIntegral(segmento, valor):\n",
    "    for i in range ( len(segmento) ):\n",
    "        segmento[i] = valor"
   ]
  },
  {
   "cell_type": "code",
   "execution_count": 8,
   "metadata": {
    "collapsed": true
   },
   "outputs": [],
   "source": [
    "def integrarImagen(imagen, imagenIntegrada, longitudSegmento, metodo, M):  \n",
    "\n",
    "    if imagen.shape[1] % longitudSegmento == 0:\n",
    "        numeroDeSegmentos = int( imagen.shape[1] / longitudSegmento ) \n",
    "    else: \n",
    "        numeroDeSegmentos = int(-(- imagen.shape[1] // longitudSegmento )) \n",
    "        \n",
    "    gradoPolinomio = int(imagen.shape[1] / numeroDeSegmentos)\n",
    "    \n",
    "    for i in range (imagen.shape[0]):\n",
    "        pixelInicial = 0\n",
    "        \n",
    "        for j in range (numeroDeSegmentos):\n",
    "            segmento = imagen[i , pixelInicial:pixelInicial + gradoPolinomio]\n",
    "            valorIntegral = 0\n",
    "            if metodo == 1:\n",
    "                \n",
    "                valorIntegral = metodoTrapecioCompuesto(segmento, 0, len(segmento) - 1, M)\n",
    "                asignarValorDeIntegral(segmento, valorIntegral)\n",
    "\n",
    "            elif metodo == 2:\n",
    "\n",
    "                valorIntegral = metodoSimpson13Compuesto(segmento, 0, len(segmento) - 1, M)\n",
    "                asignarValorDeIntegral(segmento, valorIntegral)\n",
    "\n",
    "            elif metodo == 3:\n",
    "\n",
    "                valorIntegral = metodoSimpson38Compuesto(segmento, 0, len(segmento) - 1, M)\n",
    "                asignarValorDeIntegral(segmento, valorIntegral)\n",
    "\n",
    "            imagenIntegrada[i, pixelInicial : pixelInicial + gradoPolinomio] = segmento\n",
    "\n",
    "            pixelInicial += gradoPolinomio  "
   ]
  },
  {
   "cell_type": "code",
   "execution_count": 9,
   "metadata": {},
   "outputs": [
    {
     "name": "stdout",
     "output_type": "stream",
     "text": [
      "Metodos de integracion: \n",
      "1. Trapecio Compuesto \n",
      "2. Simpson 1/3 Compuesto \n",
      "3. Simpson 3/8 Compuesto \n",
      "Seleccione un metodo de Integracion: 2\n",
      "Seleccione tamaño de segmento de pixeles (5,10,15,20): 10\n",
      "ingrese valor de M: 1\n",
      "ingrese 0 para seguir, 1 para salir: 0\n",
      "Metodos de integracion: \n",
      "1. Trapecio Compuesto \n",
      "2. Simpson 1/3 Compuesto \n",
      "3. Simpson 3/8 Compuesto \n",
      "Seleccione un metodo de Integracion: 3\n",
      "Seleccione tamaño de segmento de pixeles (5,10,15,20): 5\n",
      "ingrese valor de M: 2\n",
      "ingrese 0 para seguir, 1 para salir: 0\n",
      "Metodos de integracion: \n",
      "1. Trapecio Compuesto \n",
      "2. Simpson 1/3 Compuesto \n",
      "3. Simpson 3/8 Compuesto \n",
      "Seleccione un metodo de Integracion: 1\n",
      "Seleccione tamaño de segmento de pixeles (5,10,15,20): 5\n",
      "ingrese valor de M: 2\n"
     ]
    },
    {
     "name": "stderr",
     "output_type": "stream",
     "text": [
      "C:\\ProgramData\\Anaconda3\\lib\\site-packages\\ipykernel_launcher.py:11: RuntimeWarning: overflow encountered in ubyte_scalars\n",
      "  # This is added back by InteractiveShellApp.init_path()\n"
     ]
    },
    {
     "name": "stdout",
     "output_type": "stream",
     "text": [
      "ingrese 0 para seguir, 1 para salir: 0\n",
      "Metodos de integracion: \n",
      "1. Trapecio Compuesto \n",
      "2. Simpson 1/3 Compuesto \n",
      "3. Simpson 3/8 Compuesto \n",
      "Seleccione un metodo de Integracion: 2\n",
      "Seleccione tamaño de segmento de pixeles (5,10,15,20): 5\n",
      "ingrese valor de M: 2\n",
      "ingrese 0 para seguir, 1 para salir: 1\n"
     ]
    }
   ],
   "source": [
    "menu = True\n",
    "while ( menu ):\n",
    "    \n",
    "    print(\"Metodos de integracion: \")\n",
    "    print(\"1. Trapecio Compuesto \")\n",
    "    print(\"2. Simpson 1/3 Compuesto \")\n",
    "    print(\"3. Simpson 3/8 Compuesto \")\n",
    "    metodo = int(input(\"Seleccione un metodo de Integracion: \"))\n",
    "    longitudSegmento = int(input(\"Seleccione tamaño de segmento de pixeles (5,10,15,20): \"))\n",
    "    M = int(input(\"ingrese valor de M: \"))\n",
    "    \n",
    "    imagenAuxiliar = copy.deepcopy(imagen)\n",
    "\n",
    "    integrarImagen(imagenAuxiliar[:,:,0], imagenIntegrada[:,:,0], longitudSegmento, metodo, M)\n",
    "    integrarImagen(imagenAuxiliar[:,:,1], imagenIntegrada[:,:,1], longitudSegmento, metodo, M)\n",
    "    integrarImagen(imagenAuxiliar[:,:,2], imagenIntegrada[:,:,2], longitudSegmento, metodo, M)\n",
    "    \n",
    "    cv2.imshow('imagenIntegrada',imagenIntegrada)\n",
    "    cv2.waitKey(0)\n",
    "    cv2.destroyAllWindows()\n",
    "    \n",
    "    salir = int(input(\"ingrese 0 para seguir, 1 para salir: \"))\n",
    "    if salir == 1:\n",
    "        menu = False\n",
    "    else:\n",
    "        print(\"\")"
   ]
  },
  {
   "cell_type": "code",
   "execution_count": null,
   "metadata": {},
   "outputs": [],
   "source": []
  },
  {
   "cell_type": "code",
   "execution_count": null,
   "metadata": {
    "collapsed": true
   },
   "outputs": [],
   "source": []
  },
  {
   "cell_type": "code",
   "execution_count": null,
   "metadata": {
    "collapsed": true
   },
   "outputs": [],
   "source": []
  },
  {
   "cell_type": "code",
   "execution_count": null,
   "metadata": {},
   "outputs": [],
   "source": []
  },
  {
   "cell_type": "code",
   "execution_count": null,
   "metadata": {},
   "outputs": [],
   "source": []
  }
 ],
 "metadata": {
  "kernelspec": {
   "display_name": "Python 3",
   "language": "python",
   "name": "python3"
  },
  "language_info": {
   "codemirror_mode": {
    "name": "ipython",
    "version": 3
   },
   "file_extension": ".py",
   "mimetype": "text/x-python",
   "name": "python",
   "nbconvert_exporter": "python",
   "pygments_lexer": "ipython3",
   "version": "3.6.5"
  }
 },
 "nbformat": 4,
 "nbformat_minor": 2
}
