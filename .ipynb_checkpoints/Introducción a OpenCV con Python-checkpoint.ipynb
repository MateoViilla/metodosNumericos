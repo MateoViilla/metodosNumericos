{
 "cells": [
  {
   "cell_type": "markdown",
   "metadata": {},
   "source": [
    "# Instalación\n",
    "\n",
    "Para la instalación es suficiente trabajar en el prompt de Anaconda (v3.6) y escribir el comando $\\verb|pip install opencv-python|$. Si todo es correcto se debería poder incluir la librería cv2 con el comando $\\verb|import cv2|$"
   ]
  },
  {
   "cell_type": "markdown",
   "metadata": {},
   "source": [
    "# 1.  Comandos básicos para imágenes"
   ]
  },
  {
   "cell_type": "markdown",
   "metadata": {},
   "source": [
    "## 1.1 Leer una imagen\n",
    "\n",
    "Para la lectura de las imágenes es suficiente con la función $\\verb|cv2.imread()|$. La imagen debe estar en el directorio de trabajo. En caso contrario se debe agregar toda la ruta. Para cambiar el formato de lectura se puede trabajar con banderas o con un segundo argumento así: 1 para lectura a color, 0 para escala de grises y -1 carga la imagen como tal, incluyendo el canal alfa (el canal alfa suma 8 bits mas para determinar el grado de opacidad de ese pixel, en el cual podemos tener mas o menos transparencia). En caso de que la ruta de la imagen no sea correcta no se tendrá error, pero al imprimir la imagen se tendrá un mensaje de $\\verb|None|$."
   ]
  },
  {
   "cell_type": "code",
   "execution_count": null,
   "metadata": {
    "collapsed": true
   },
   "outputs": [],
   "source": [
    "import numpy as np #importamos las librerías necesarias\n",
    "import cv2\n",
    "# Carga la imagen en escala de grises\n",
    "img = cv2.imread('supercow.jpg',0) #recuerda cambiar el nombre de tu imagen"
   ]
  },
  {
   "cell_type": "markdown",
   "metadata": {},
   "source": [
    "## 1.2 Mostar una imagen\n",
    "\n",
    "De forma análoga a otras librerías para tratamiento de imágenes con Python, utiliza la función $\\verb|imshow|$ para mostrar la imagen. La ventana se ajusta automáticamente al tamaño de la imagen. El primer argumento es un nombre de ventana, el segundo es la imagen. Se pueden crear tantas ventanas como se deseen."
   ]
  },
  {
   "cell_type": "code",
   "execution_count": null,
   "metadata": {
    "collapsed": true
   },
   "outputs": [],
   "source": [
    "cv2.imshow('imagen',img) #mostramos la imagen\n",
    "cv2.waitKey(0) # es una función de enlace de teclado. El argumento es el tiempo\n",
    "# en ms. La función espera n ms para cualquier evento del teclado. En \n",
    "# ese caso el codigo seguirá. Si se pasa un 0 se espera indeterminadamente\n",
    "cv2.destroyAllWindows()  #cierra las ventanas abiertas"
   ]
  },
  {
   "cell_type": "code",
   "execution_count": null,
   "metadata": {
    "collapsed": true
   },
   "outputs": [],
   "source": [
    "# si se desea cerrar una ventana específica, se puede\n",
    "# pasar como argumento el nombre de la ventana. Se puede crear una ventana previamente\n",
    "# y después cargar la imagen para manejar un tamaño fijo. Esto se puede lograr con \n",
    "# flags en la función namedWindow(). Por defecto el flag es cv2.WINDOW_AUTOSIZE,\n",
    "# pero cuando se trabaja con cvs.WINDOW_NORMAL se puede redimensionar la ventana\n",
    "# manualmente\n",
    "cv2.namedWindow('imagen', cv2.WINDOW_NORMAL) #para redimensionar la ventana manualmente\n",
    "cv2.imshow('imagen',img) #mostramos la imagen\n",
    "cv2.waitKey(0) & 0xFF #& 0xFF se debe agregar para un pc de 64 bits. para uno de 32 bits\n",
    "#no es neecesario\n",
    "cv2.destroyAllWindows()"
   ]
  },
  {
   "cell_type": "markdown",
   "metadata": {},
   "source": [
    "## 1.3 Escribir una imagen"
   ]
  },
  {
   "cell_type": "code",
   "execution_count": null,
   "metadata": {
    "collapsed": true
   },
   "outputs": [],
   "source": [
    "cv2.imwrite('supercowgray.png',img) #guardamos la imagen con el nombre \"supercowgray\""
   ]
  },
  {
   "cell_type": "markdown",
   "metadata": {},
   "source": [
    "**Ejemplo**\n",
    "\n",
    "El siguiente programa carga una imagen es escala de grises, guarda la imagen si se presiona la tecla $\\verb|s|$ y sale, o simplemente salir prescionando la tecla $\\verb|Esc|$"
   ]
  },
  {
   "cell_type": "code",
   "execution_count": null,
   "metadata": {
    "collapsed": true
   },
   "outputs": [],
   "source": [
    "import numpy as np\n",
    "import cv2\n",
    "\n",
    "img = cv2.imread('supercow.jpg',0)\n",
    "cv2.imshow('image',img)\n",
    "k = cv2.waitKey(0) & 0xFF\n",
    "if k == 27: # el código 27 representa la techa Esc\n",
    "    cv2.destroyAllWindows()\n",
    "elif k == ord('s'): # la función ord() es el inverso de la función chr()\n",
    "    cv2.imwrite('supercowgray.png',img)\n",
    "    cv2.destroyAllWindows()\n",
    "else:\n",
    "    cv2.destroyAllWindows() #si no se agrega el else se genera un bloque\n",
    "    #de la ventana si se presiona algo diferente a Esc o s"
   ]
  },
  {
   "cell_type": "markdown",
   "metadata": {},
   "source": [
    "## 1.4 Usando Matplotlib\n",
    "\n",
    "Matplotlib es la librería convencional de Python para graficar que tiene muchas prestaciones útiles. Vale la pena aclarar que cuando se carga una imagen en OpenCV se hace en modo BGR, mientras en  Matplotlib se hace en RGB, por tanto, una imagen a color cargada con OpenCV se vera de forma errada en Matplotlib "
   ]
  },
  {
   "cell_type": "code",
   "execution_count": null,
   "metadata": {
    "collapsed": true
   },
   "outputs": [],
   "source": [
    "import numpy as np\n",
    "import cv2\n",
    "from matplotlib import pyplot as plt #cargamos la librería matplotlib\n",
    "\n",
    "img = cv2.imread('supercow.jpg',0) #lee la imagen\n",
    "plt.imshow(img, cmap = 'gray', interpolation = 'bicubic') #el tipo de interpolación nos permite ajustar la visualización de la imagen\n",
    "plt.xticks([]), plt.yticks([]) # Esconde los ticks de los ejes\n",
    "plt.show() #muestra la imagen"
   ]
  },
  {
   "cell_type": "markdown",
   "metadata": {},
   "source": [
    "# 2. Comandos básicos para videos"
   ]
  },
  {
   "cell_type": "markdown",
   "metadata": {},
   "source": [
    "## 2.1 Capturar video de una cámara\n",
    "\n",
    "Para capturar el video, se debe crear un objeto $\\verb|VideoCapture|$. Su argumento puede ser o el índice del dispositivo o el nombre de un archivo de video. El índice del dispositivo solo es el número que especifíca cuál cámara. Normalmente se tiene solo una cámara conectada, por tanto se pasará un 0 o un -1. La segunda cámara sera el 1 y así continuamente. Posteriormente se puede capturar trama a trama. Al final se debe recordar liberar la captura."
   ]
  },
  {
   "cell_type": "code",
   "execution_count": null,
   "metadata": {
    "collapsed": true
   },
   "outputs": [],
   "source": [
    "import numpy as np\n",
    "import cv2\n",
    "cap = cv2.VideoCapture(0)\n",
    "\n",
    "while(True):\n",
    "    ret, frame = cap.read() #captura trama a trama. Retorna True o False\n",
    "                            # de acuerdo a si es correcta la lectura de la trama\n",
    "\n",
    "    #las operaciones sobre la trama vienen aquí. En este momento la convierte \n",
    "    #en escala de grises\n",
    "    gray = cv2.cvtColor(frame, cv2.COLOR_BGR2GRAY)\n",
    "    cv2.imshow('frame',gray) #muestra la trama resultante\n",
    "    if cv2.waitKey(1) & 0xFF == ord('q'):\n",
    "        break\n",
    "#Cuando todo se termina se libera la captura\n",
    "cap.release() #libera el recurso\n",
    "cv2.destroyAllWindows() #cierra las ventanas activas\n",
    "\n",
    "# Puede ocurrir que cap no inicialice la captura correctamente. En ese caso se\n",
    "# puede utilizar el método cap.isOpened(). Si es True, está bien.\n",
    "# de otra forma se puede abrir con cap.open()\n"
   ]
  },
  {
   "cell_type": "code",
   "execution_count": null,
   "metadata": {
    "collapsed": true
   },
   "outputs": [],
   "source": [
    "# Igualmente se puede accesar a algunas de las características del video\n",
    "# usando cap.get(propId) donde propId es un número de 0 a 18. Cada\n",
    "# número denota una característica. Algunos de los valores pueden modificarse\n",
    "# usando cap.set(propId, value), donde value es el nuevo valor que se desea\n",
    "# fijar.\n",
    "\n",
    "import numpy as np\n",
    "import cv2\n",
    "cap = cv2.VideoCapture(0)\n",
    "cap.set(3, 320) #características de ancho y alto y el nuevo valor para cada una de ellas\n",
    "cap.set(4, 240)\n",
    "\n",
    "while(True):\n",
    "    ret, frame = cap.read() #captura trama a trama. Retorna True o False\n",
    "                            # de acuerdo a sí es correcta la lectura de la trama\n",
    "\n",
    "    #las operaciones sobre la trama vienen aquí.\n",
    "    cv2.imshow('frame',frame) #muestra la trama resultante\n",
    "    if cv2.waitKey(1) & 0xFF == ord('q'):\n",
    "        break\n",
    "#Cuando todo se termina se libera la captura\n",
    "# width = cap.get(3) #por defecto es 640x480\n",
    "# print(width)\n",
    "# height = cap.get(4)\n",
    "# print(height)\n",
    "cap.release()\n",
    "cv2.destroyAllWindows()"
   ]
  },
  {
   "cell_type": "markdown",
   "metadata": {},
   "source": [
    "## 2.2 Visualizar video de un archivo\n",
    "\n",
    "Se procede como en la captura pero se cambia el índice por el nombre del video."
   ]
  },
  {
   "cell_type": "code",
   "execution_count": null,
   "metadata": {
    "collapsed": true
   },
   "outputs": [],
   "source": [
    "import numpy as np\n",
    "import cv2\n",
    "cap = cv2.VideoCapture('rassegna2.avi')\n",
    "while(cap.isOpened()): \n",
    "    ret, frame = cap.read()\n",
    "    if ret == True: #si no se utiliza se tiene un error cuando terminan las tramas y \n",
    "        #se congela el video\n",
    "        cv2.imshow('frame',frame)\n",
    "        cv2.waitKey(25)\n",
    "        if cv2.waitKey(1) & 0xFF == ord('q'):\n",
    "             break\n",
    "    else: #si no se utiliza se tiene un error cuando terminan las tramas y \n",
    "        #se congela el video\n",
    "        break\n",
    "        \n",
    "cap.release()\n",
    "cv2.destroyAllWindows()"
   ]
  },
  {
   "cell_type": "markdown",
   "metadata": {},
   "source": [
    "## 2.3 Almacenar un video\n",
    "\n",
    "Dado que cuando se caputra un video se realiza trama a trama, para almacenarlo se requiren algunos pasos adicionales. Primero se debe crear un objeto $\\verb|VideoWriter|$. Se debe especificar el nombre del archivo de salida. Posteriormente se debe especificar el código $\\verb|FourCC|$. EL número de tramas por segundo (fps), el tamaño de la trama y el flag $\\verb|isColor|$.\n",
    "\n",
    "El código $\\verb|FourCC|$ es un código de 4 bytes usando para especificar el codec del video, que depende de la plataforma. Los más apropiados son:\n",
    "\n",
    "1. Para fedora: DIVX, XVID, MJPG, X264, WMV1, WMV2.\n",
    "2. Para Windows: DIVX\n"
   ]
  },
  {
   "cell_type": "markdown",
   "metadata": {},
   "source": [
    "**Ejemplo**\n",
    "\n",
    "El siguiente código  hace una captura de la cámara, gira cada trama de forma vertical y lo guarda"
   ]
  },
  {
   "cell_type": "code",
   "execution_count": null,
   "metadata": {
    "collapsed": true
   },
   "outputs": [],
   "source": [
    "import numpy as np\n",
    "import cv2\n",
    "cap = cv2.VideoCapture(0)\n",
    "#define el codec y crea el objeto VideoWriter\n",
    "fourcc = cv2.VideoWriter_fourcc(*'XVID')\n",
    "out = cv2.VideoWriter('output.avi',fourcc, 20.0, (640,480))\n",
    "while(cap.isOpened()): #se captura el video mientras el recurso de la cámara se encuentre en uso\n",
    "    ret, frame = cap.read()\n",
    "    if ret==True:\n",
    "        frame = cv2.flip(frame,0)\n",
    "        # Escribe la trama girada (si se pasa a gris hay un problema\n",
    "        #de reproducción en windows, no así en python)\n",
    "        out.write(frame)\n",
    "        cv2.imshow('frame',frame)\n",
    "        if cv2.waitKey(1) & 0xFF == ord('q'):\n",
    "            break\n",
    "    else:\n",
    "        break\n",
    "# libera todo una vez que la captura se termina\n",
    "cap.release()\n",
    "out.release()\n",
    "cv2.destroyAllWindows()"
   ]
  },
  {
   "cell_type": "markdown",
   "metadata": {},
   "source": [
    "# 3. Funciones para dibujar\n",
    "\n",
    "Todas las funciones para dibujar tienen generalmente los siguientes argumentos:\n",
    "\n",
    "1. $\\verb|img|$ : la imagen donde se quieren dibujar las formas.\n",
    "2. $\\verb|color|$: el color de la forma. Para BGR se pasa como una tupla (e.g. (255,0,0) para azul). Para escala de grises solo se pasa el valor escalar.\n",
    "3. $\\verb|thickness|$: es el espesor de la línea o el círculo. Si se pasa -1 para figuras cerradas, se rellenará la forma. El valor por defecto es 1.\n",
    "4. $\\verb|lineType|$: es el tipo de línea, e.g. 8-connected, anti-aliased, etc. Por defecto es 8-connected. $\\verb|cv2.LINE_AA|$ muestra una línea anti-aliased ideal para curvas. En la imagen se muestran las conexiones de 8 y 4 px. Para el anti-aliased lo que se hace es intentar engañar el ojo aumentando la resolución, dividiendo cada píxel en sub-píxeles.\n",
    "\n"
   ]
  },
  {
   "cell_type": "markdown",
   "metadata": {},
   "source": [
    "## 3.1 Líneas"
   ]
  },
  {
   "cell_type": "code",
   "execution_count": null,
   "metadata": {
    "collapsed": true
   },
   "outputs": [],
   "source": [
    "import numpy as np\n",
    "import cv2\n",
    "\n",
    "img = np.zeros((512,512,3), np.uint8) #crea una imagen negra de tamaño 512x512\n",
    "# y BGR\n",
    "img = cv2.line(img,(0,0),(511,511),(255,0,0),5) #dibuja una línea azul diagonal\n",
    "# con 5 px de espesor con inicio en 0,0 y final en 511,511\n",
    "cv2.imshow('imagen',img)\n",
    "cv2.waitKey(0) #si no se pone se congela y bloquea la ventana\n",
    "cv2.destroyAllWindows() #idem"
   ]
  },
  {
   "cell_type": "markdown",
   "metadata": {},
   "source": [
    "## 3.2 Rectángulos"
   ]
  },
  {
   "cell_type": "code",
   "execution_count": null,
   "metadata": {
    "collapsed": true
   },
   "outputs": [],
   "source": [
    "img = np.zeros((512,512,3), np.uint8) #crea una imagen negra de tamaño 512x512\n",
    "img = cv2.rectangle(img,(384,0),(510,128),(0,255,0),3)\n",
    "#para el rectángulo se pasan las esquinas superior izauierda e inferior\n",
    "#derecha, el color y el espesor.\n",
    "cv2.imshow('imagen',img)\n",
    "cv2.waitKey(0) #si no se pone se congela y bloque la ventana\n",
    "cv2.destroyAllWindows() #idem"
   ]
  },
  {
   "cell_type": "markdown",
   "metadata": {},
   "source": [
    "## 3.3 Círculos\n",
    "\n"
   ]
  },
  {
   "cell_type": "code",
   "execution_count": null,
   "metadata": {
    "collapsed": true
   },
   "outputs": [],
   "source": [
    "img = np.zeros((512,512,3), np.uint8) #crea una imagen negra de tamaño 512x512\n",
    "img = cv2.circle(img,(447,63), 63, (0,0,255), -1)\n",
    "# se necesita el centro y el radio\n",
    "cv2.imshow('imagen',img)\n",
    "cv2.waitKey(0) #si no se pone se congela y bloque la ventana\n",
    "cv2.destroyAllWindows() #idem"
   ]
  },
  {
   "cell_type": "markdown",
   "metadata": {},
   "source": [
    "## 3.4 Elípses\n",
    "\n",
    "Para las elipses se requiere un mayor número de argumentos. El centro, la longitud de los ejes (eje mayor y eje mejor), el ángulo de rotación en sentido anti-horario. El angulo inicial y ángulo final de la medida del arco medida en sentido antio-horario respecto al eje mayor (en grados centígrados)."
   ]
  },
  {
   "cell_type": "code",
   "execution_count": null,
   "metadata": {
    "collapsed": true
   },
   "outputs": [],
   "source": [
    "img = np.zeros((512,512,3), np.uint8) #crea una imagen negra de tamaño 512x512\n",
    "img = cv2.ellipse(img,(256,256),(100,50),0,0,270,(0,255,0),-1)\n",
    "cv2.imshow('imagen',img)\n",
    "cv2.waitKey(0) #si no se pone se congela y bloque la ventana\n",
    "cv2.destroyAllWindows() #idem"
   ]
  },
  {
   "cell_type": "markdown",
   "metadata": {},
   "source": [
    "## 3.5 Polígonos\n",
    "\n",
    "Para graficar un polígono se necesita primero las coordenadas de los vértices. Se deben organizar en un arreglo de dimensión $\\verb|filas|\\times\\verb|1|\\times\\verb|2|$, donde las $\\verb|filas|$ son el número de vértices de tipo $\\verb|int32|$."
   ]
  },
  {
   "cell_type": "code",
   "execution_count": null,
   "metadata": {
    "collapsed": true
   },
   "outputs": [],
   "source": [
    "img = np.zeros((512,512,3), np.uint8) #crea una imagen negra de tamaño 512x512\n",
    "vertices = np.array([[10,5],[20,30],[70,20],[50,10]], np.int32)\n",
    "print('La dimensión original es: ', vertices.shape)\n",
    "vertices= vertices.reshape((-1,1,2)) #queda como una lista de listas\n",
    "# el -1 es para mantener la dimensión del arreglo, en este caso de 4 filas\n",
    "print('La nueva dimensión es: ', vertices.shape)\n",
    "img = cv2.polylines(img,[vertices],False,(0,255,255))\n",
    "# si el tercer argumento es False, se juntan todas las líneas pero no\n",
    "# se crea una forma cerrada\n",
    "cv2.imshow('imagen',img)\n",
    "cv2.waitKey(0) #si no se pone se congela y bloque la ventana\n",
    "cv2.destroyAllWindows() #idem\n",
    "\n",
    "#la función polylines() se puede usar para graficar múltiples líneas.\n",
    "#En ese caso se crean múltiples líneas y se pasan a la función."
   ]
  },
  {
   "cell_type": "markdown",
   "metadata": {},
   "source": [
    "## 3.6 Texto\n",
    "\n",
    "Para agregar texto a una imagen se deben especificar los siguientes parámetros: texto, coordenadas (esquina superior izquierda), fuente, escala, color, espesor, tipo de línea, entre otros. Los tipos de letra en OpenCV son:\n",
    "\n",
    "- Hershey Simplex\n",
    "- Hershey Plain\n",
    "- Hershey Duplex\n",
    "- Hershey Complex\n",
    "- Hershey Triplex\n",
    "- Hershey Complex Small\n",
    "- Hershey Script Simplex\n",
    "- Hershey Script Complex"
   ]
  },
  {
   "cell_type": "code",
   "execution_count": null,
   "metadata": {
    "collapsed": true
   },
   "outputs": [],
   "source": [
    "img = np.zeros((512,512,3), np.uint8) #crea una imagen negra de tamaño 512x512\n",
    "font = cv2.FONT_HERSHEY_SIMPLEX\n",
    "cv2.putText(img,'OpenCV',(10,500), font, 4,(255,255,255),2,cv2.LINE_AA)\n",
    "cv2.imshow('imagen',img)\n",
    "cv2.waitKey(0) #si no se pone se congela y bloque la ventana\n",
    "cv2.destroyAllWindows() #idem"
   ]
  },
  {
   "cell_type": "markdown",
   "metadata": {},
   "source": [
    "# 4. Uso del mouse como pincel\n",
    "\n",
    "**Ejemplo**\n",
    "\n",
    "En el siguiente ejemplo se dibuja un círculo sobre una imagen donde se haga doble click. Primero imprimiremos los posibles eventos que se pueden manejar."
   ]
  },
  {
   "cell_type": "code",
   "execution_count": null,
   "metadata": {
    "collapsed": true
   },
   "outputs": [],
   "source": [
    "import cv2\n",
    "events = [i for i in dir(cv2) if 'EVENT' in i]\n",
    "print(events)"
   ]
  },
  {
   "cell_type": "code",
   "execution_count": null,
   "metadata": {
    "collapsed": true
   },
   "outputs": [],
   "source": [
    "import cv2\n",
    "import numpy as np\n",
    "# función de llamado para el mouse\n",
    "def draw_circle(event,x,y,flags,param): #los argumentos son los determinados para\n",
    "    #el callback del mouse\n",
    "    if event == cv2.EVENT_LBUTTONDBLCLK:\n",
    "        cv2.circle(img,(x,y),100,(255,0,0),-1) #función para graficar el círculo\n",
    "        # creamos una imagen negra\n",
    "\n",
    "img = np.zeros((512,512,3), np.uint8)\n",
    "cv2.namedWindow('image')\n",
    "cv2.setMouseCallback('image',draw_circle)\n",
    "while(1):\n",
    "    cv2.imshow('image',img)\n",
    "    if cv2.waitKey(20) & 0xFF == 27: #sale con Esc\n",
    "        break\n",
    "cv2.destroyAllWindows()"
   ]
  },
  {
   "cell_type": "markdown",
   "metadata": {},
   "source": [
    "** Ejercicio 1**\n",
    "\n",
    "Crea una matriz que simule un «tablero de ajedrez», tal que las casillas negras contienen 0 y las casillas blancas contienen un 1. Muestra la imagen y guárdala."
   ]
  },
  {
   "cell_type": "code",
   "execution_count": null,
   "metadata": {
    "collapsed": true
   },
   "outputs": [],
   "source": [
    "#espacio para la solución del ejercicio 1."
   ]
  },
  {
   "cell_type": "markdown",
   "metadata": {},
   "source": [
    "**Ejercicio 2**\n",
    "\n",
    "Ahora simula un tablero de «damas chinas» y guárdalo como una imagen.\n"
   ]
  },
  {
   "cell_type": "code",
   "execution_count": null,
   "metadata": {
    "collapsed": true
   },
   "outputs": [],
   "source": [
    "#espacio para la solución del ejercicio 2"
   ]
  }
 ],
 "metadata": {
  "kernelspec": {
   "display_name": "Python 3",
   "language": "python",
   "name": "python3"
  },
  "language_info": {
   "codemirror_mode": {
    "name": "ipython",
    "version": 3
   },
   "file_extension": ".py",
   "mimetype": "text/x-python",
   "name": "python",
   "nbconvert_exporter": "python",
   "pygments_lexer": "ipython3",
   "version": "3.6.5"
  }
 },
 "nbformat": 4,
 "nbformat_minor": 2
}
