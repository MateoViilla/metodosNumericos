{
 "cells": [
  {
   "cell_type": "markdown",
   "metadata": {},
   "source": [
    "# Integración numérica\n",
    "\n",
    "Implementa los métodos de integración **Trapecio**, **Simpson 1/3**, **Simpson 3/8** simples y compuestos. El usuario debe poder ingresar el tipo de método, para los métodos compuestos el valor de $M$, los intervalos de integración y la función a integrar."
   ]
  },
  {
   "cell_type": "code",
   "execution_count": 25,
   "metadata": {
    "collapsed": true
   },
   "outputs": [],
   "source": [
    "import numpy as np \n",
    "from sympy import *\n",
    "import math\n",
    "x= Symbol('x')\n",
    "fun = vars(math)"
   ]
  },
  {
   "cell_type": "code",
   "execution_count": 26,
   "metadata": {
    "collapsed": true
   },
   "outputs": [],
   "source": [
    "def trapecioSimple(funcion,punto_inicial,punto_final):\n",
    "    fun = vars(math)\n",
    "    h = (punto_final - punto_inicial) / 2\n",
    "    y0 = eval(funcion,fun,{'x':punto_inicial})\n",
    "    y1 = eval(funcion,fun,{'x':punto_final})\n",
    "    I = h * (y0+y1)\n",
    "    return I\n",
    "    "
   ]
  },
  {
   "cell_type": "code",
   "execution_count": 62,
   "metadata": {
    "collapsed": true
   },
   "outputs": [],
   "source": [
    "def trapecioCompuesto(funcion,punto_inicial,punto_final,M):\n",
    "    fun = vars(math)\n",
    "    h = (punto_final - punto_inicial)/M\n",
    "    suma = eval(funcion,fun,{'x':punto_inicial})\n",
    "    \n",
    "    for i in range(0,M-1):\n",
    "        punto_inicial = punto_inicial + h\n",
    "        suma = suma + 2 * eval(funcion,fun,{'x':punto_inicial})\n",
    "    suma = suma + eval(funcion,fun,{'x':punto_final})\n",
    "    I= h *(suma/2)\n",
    "        \n",
    "        \n",
    "        \n",
    "    return I    \n",
    "    "
   ]
  },
  {
   "cell_type": "code",
   "execution_count": 4,
   "metadata": {
    "collapsed": true
   },
   "outputs": [],
   "source": [
    "def simpsonSimple13(funcion,punto_inicial,punto_final):\n",
    "    fun = vars(math)\n",
    "    h = (punto_final - punto_inicial) /2\n",
    "    x0 = punto_inicial\n",
    "    x1 = punto_inicial + h\n",
    "    x2 = punto_inicial + 2*h\n",
    "    \n",
    "    y0 = eval(funcion,fun,{'x':x0})\n",
    "    y1 = eval(funcion,fun,{'x':x1})\n",
    "    y2 = eval(funcion,fun,{'x':x2})\n",
    "    \n",
    "    I = (h/3)* (y0 + 4*y1 + y2)\n",
    "    \n",
    "    return I\n",
    "    \n",
    "    "
   ]
  },
  {
   "cell_type": "code",
   "execution_count": 52,
   "metadata": {},
   "outputs": [],
   "source": [
    "def simpsonCompuesto13(funcion,punto_inicial,punto_final,M):\n",
    "    fun = vars(math)\n",
    "    h = (punto_final - punto_inicial) / (2 * M)\n",
    "    \n",
    "    suma = 0\n",
    "    for i in range(M):\n",
    "        yi = eval(funcion,fun,{'x':punto_inicial+i*h})\n",
    "        yi_1 = eval(funcion,fun,{'x':punto_inicial+(i+1*h)})\n",
    "        yi_2 = eval(funcion,fun,{'x':punto_inicial+(i+2*h)})\n",
    "        \n",
    "        suma = suma + (h/3)*(yi+4*yi_1+yi_2)\n",
    "        \n",
    "   \n",
    "\n",
    "    \n",
    "    return suma\n",
    "        \n",
    "    "
   ]
  },
  {
   "cell_type": "code",
   "execution_count": 6,
   "metadata": {
    "collapsed": true
   },
   "outputs": [],
   "source": [
    "def simpsonSimple38(funcion,punto_inicial,punto_final):\n",
    "    fun = vars(math)\n",
    "    h = (punto_final - punto_inicial) /3\n",
    "    x0 = punto_inicial\n",
    "    x1 = x0 + h\n",
    "    x2 = x1 + h\n",
    "    x3= x2 + h\n",
    "    \n",
    "    y0 = eval(funcion,fun,{'x':x0})\n",
    "    y1 = eval(funcion,fun,{'x':x1})\n",
    "    y2 = eval(funcion,fun,{'x':x2})\n",
    "    y3= eval(funcion,fun,{'x':x3})\n",
    "    \n",
    "    I = (3*h/8)* (y0 + 3*y1 + 3*y2+ y3)\n",
    "    \n",
    "    return I\n",
    "    \n",
    "    "
   ]
  },
  {
   "cell_type": "code",
   "execution_count": 57,
   "metadata": {
    "collapsed": true
   },
   "outputs": [],
   "source": [
    "def simpsonCompuesto38(funcion,punto_inicial,punto_final,M):\n",
    "    fun = vars(math)\n",
    "    h = (punto_final - punto_inicial) / (3 * M)\n",
    "    \n",
    "    suma = 0\n",
    "    for i in range(M):\n",
    "        yi = eval(funcion,fun,{'x':punto_inicial + i*h})\n",
    "        yi_1 = eval(funcion,fun,{'x':punto_inicial + (i+1*h)})\n",
    "        yi_2 = eval(funcion,fun,{'x':punto_inicial + (i+2*h)})\n",
    "        yi_3 = eval(funcion,fun,{'x':punto_inicial + (i+3*h)})\n",
    "        \n",
    "        suma = suma + (3*h/8)*(yi+3*yi_1+3*yi_2+yi_3)\n",
    "        \n",
    "   \n",
    "\n",
    "    \n",
    "    return suma\n",
    "    \n",
    "    \n",
    "    "
   ]
  },
  {
   "cell_type": "code",
   "execution_count": 63,
   "metadata": {},
   "outputs": [
    {
     "data": {
      "text/plain": [
       "4.440918152502073"
      ]
     },
     "execution_count": 63,
     "metadata": {},
     "output_type": "execute_result"
    }
   ],
   "source": [
    "trapecioCompuesto('log(x)',3,6,3)"
   ]
  },
  {
   "cell_type": "code",
   "execution_count": 54,
   "metadata": {
    "scrolled": true
   },
   "outputs": [
    {
     "data": {
      "text/plain": [
       "4.335557636844246"
      ]
     },
     "execution_count": 54,
     "metadata": {},
     "output_type": "execute_result"
    }
   ],
   "source": [
    "trapecioSimple('log(x)',3,6)"
   ]
  },
  {
   "cell_type": "code",
   "execution_count": 10,
   "metadata": {},
   "outputs": [
    {
     "data": {
      "text/plain": [
       "4.453340672500631"
      ]
     },
     "execution_count": 10,
     "metadata": {},
     "output_type": "execute_result"
    }
   ],
   "source": [
    "simpsonSimple13('log(x)',3,6)"
   ]
  },
  {
   "cell_type": "code",
   "execution_count": 53,
   "metadata": {},
   "outputs": [
    {
     "data": {
      "text/plain": [
       "4.395252531850947"
      ]
     },
     "execution_count": 53,
     "metadata": {},
     "output_type": "execute_result"
    }
   ],
   "source": [
    "simpsonCompuesto13('log(x)',3,6,3)"
   ]
  },
  {
   "cell_type": "code",
   "execution_count": 12,
   "metadata": {},
   "outputs": [
    {
     "data": {
      "text/plain": [
       "4.454088216959301"
      ]
     },
     "execution_count": 12,
     "metadata": {},
     "output_type": "execute_result"
    }
   ],
   "source": [
    "simpsonSimple38('log(x)',3,6)"
   ]
  },
  {
   "cell_type": "code",
   "execution_count": 58,
   "metadata": {},
   "outputs": [
    {
     "data": {
      "text/plain": [
       "4.393150747672"
      ]
     },
     "execution_count": 58,
     "metadata": {},
     "output_type": "execute_result"
    }
   ],
   "source": [
    "simpsonCompuesto38('log(x)',3,6,3)"
   ]
  }
 ],
 "metadata": {
  "kernelspec": {
   "display_name": "Python 3",
   "language": "python",
   "name": "python3"
  },
  "language_info": {
   "codemirror_mode": {
    "name": "ipython",
    "version": 3
   },
   "file_extension": ".py",
   "mimetype": "text/x-python",
   "name": "python",
   "nbconvert_exporter": "python",
   "pygments_lexer": "ipython3",
   "version": "3.6.5"
  }
 },
 "nbformat": 4,
 "nbformat_minor": 2
}
