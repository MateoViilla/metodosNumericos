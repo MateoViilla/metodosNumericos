{
 "cells": [
  {
   "cell_type": "markdown",
   "metadata": {},
   "source": [
    "# Detección de bordes usando cruces por cero de LoG\n",
    "\n",
    "En una imagen la detección de bordes se puede realizar utilizando cruces por cero de la imagen filtrada por un Laplaciano de Gauss. Este tipo de filtro permite realzar ciertas características de la imagen que nos permitirán llevar a cabo esta tarea"
   ]
  },
  {
   "cell_type": "code",
   "execution_count": 2,
   "metadata": {},
   "outputs": [
    {
     "data": {
      "image/png": "[encoded data removed]",
      "text/plain": [
       "<Figure size 432x288 with 1 Axes>"
      ]
     },
     "metadata": {},
     "output_type": "display_data"
    },
    {
     "data": {
      "image/png": "[encoded data removed]",
      "text/plain": [
       "<Figure size 432x288 with 1 Axes>"
      ]
     },
     "metadata": {},
     "output_type": "display_data"
    }
   ],
   "source": [
    "import scipy as sp #librería de señales\n",
    "import numpy as np #librería numérica\n",
    "import matplotlib.pyplot as plt #librería de graficación\n",
    "import cv2\n",
    "from sympy import *\n",
    "import scipy.ndimage as nd\n",
    "from sympy import * \n",
    "import math\n",
    "\n",
    "nuevaImagen = []\n",
    "imagen  = cv2.imread('circulo.png',0) # cargamos una imagen de muestra que se encuentra en la librería scipy\n",
    "plt.imshow(imagen) #visualización de la imagen\n",
    "plt.show()\n",
    "LoG = nd.gaussian_laplace(imagen, 2) #aplicación del filtro Laplaciano de Gauss a la imagen de muestra\n",
    "plt.imshow(LoG) #visualizamos la imagen filtrada\n",
    "plt.show()"
   ]
  },
  {
   "cell_type": "markdown",
   "metadata": {},
   "source": [
    "** Actividad 1**\n",
    "\n",
    "Esta actividad se debe realizar por regiones de la imagen, es decir, no se toma la imagen completa sino que se trabaja por segmentos de filas o columnas de acuerdo a tu consideración.\n",
    "\n",
    "Para cada segmento de la imagen filtrada encuentra un polinomio interpolador (debes encontrar la ecuación del polinomio) y con alguno de los métodos de solución de ecuaciones determina el cruce por cero de ese polinomio. Crea una imagen totalmente negra de las mismas dimensiones de la imagen que estás trabajando y en el valor de $x$ donde se detecte el cruce por cero asigna un valor de 255 (blanco), de esta forma en la nueva imagen se deben ver los bordes de la imagen filtrada."
   ]
  },
  {
   "cell_type": "code",
   "execution_count": 3,
   "metadata": {},
   "outputs": [],
   "source": [
    "#Imagen negra para dibujar borde\n",
    "img = np.zeros(imagen.shape, np.uint8)\n",
    "cv2.imshow('imagen',img)\n",
    "cv2.waitKey(0) #si no se pone se congela y bloque la ventana\n",
    "cv2.destroyAllWindows() #idem"
   ]
  },
  {
   "cell_type": "code",
   "execution_count": 4,
   "metadata": {},
   "outputs": [
    {
     "name": "stdout",
     "output_type": "stream",
     "text": [
      "255*(-x + 3)*(-x/2 + 2)*(-x/3 + 5/3)*(-x/4 + 3/2)*(-x/5 + 7/5)*(-x/6 + 4/3)*(x - 1) + 255*(-x + 4)*(-x/2 + 5/2)*(-x/3 + 2)*(-x/4 + 7/4)*(-x/5 + 8/5)*(x/2 - 1/2)*(x - 2) + 255*(-x + 5)*(-x/2 + 3)*(-x/3 + 7/3)*(-x/4 + 2)*(x/3 - 1/3)*(x/2 - 1)*(x - 3) + 255*(-x + 6)*(-x/2 + 7/2)*(-x/3 + 8/3)*(x/4 - 1/4)*(x/3 - 2/3)*(x/2 - 3/2)*(x - 4) + 255*(-x + 7)*(-x/2 + 4)*(x/5 - 1/5)*(x/4 - 1/2)*(x/3 - 1)*(x/2 - 2)*(x - 5) + 255*(-x + 8)*(x/6 - 1/6)*(x/5 - 2/5)*(x/4 - 3/4)*(x/3 - 4/3)*(x/2 - 5/2)*(x - 6) + 255*(x/7 - 1/7)*(x/6 - 1/3)*(x/5 - 3/5)*(x/4 - 1)*(x/3 - 5/3)*(x/2 - 3)*(x - 7)\n"
     ]
    }
   ],
   "source": [
    "def metodoLagrange(datos):\n",
    "    pixel = 0\n",
    "    grado = len(datos)\n",
    "    x = Symbol('x')\n",
    "    for k in range(grado):\n",
    "        \n",
    "       \n",
    "            productoria = 1\n",
    "            \n",
    "            for i in range(grado):\n",
    "                if (i != k) and i != (x-1):\n",
    "                    productoria *= ((x) - (i+1))/((k+1) - (i+1))\n",
    "                   # print(i , k )\n",
    "                    \n",
    "            productoria = productoria * datos[k]        \n",
    "            pixel += productoria\n",
    "\n",
    "    return pixel\n",
    "\n",
    "y =[100, 109, 118, 119, 121, 94, 37, 51, 68, 80, 80, 64, 68, 69, 66]\n",
    "#y =[55, 54, 54, 54, 54, 54, 60, 68, 63, 114, 166, 208, 242, 254, 253]\n",
    "y = [0, 255, 255, 255, 255, 255, 255, 255]\n",
    "\n",
    "print(metodoLagrange(y))\n"
   ]
  },
  {
   "cell_type": "code",
   "execution_count": 104,
   "metadata": {},
   "outputs": [
    {
     "name": "stdout",
     "output_type": "stream",
     "text": [
      "255*(-x + 3)*(-x/2 + 2)*(-x/3 + 5/3)*(-x/4 + 3/2)*(-x/5 + 7/5)*(-x/6 + 4/3)*(x - 1) + 255*(-x + 4)*(-x/2 + 5/2)*(-x/3 + 2)*(-x/4 + 7/4)*(-x/5 + 8/5)*(x/2 - 1/2)*(x - 2) + 255*(-x + 5)*(-x/2 + 3)*(-x/3 + 7/3)*(-x/4 + 2)*(x/3 - 1/3)*(x/2 - 1)*(x - 3) + 255*(-x + 6)*(-x/2 + 7/2)*(-x/3 + 8/3)*(x/4 - 1/4)*(x/3 - 2/3)*(x/2 - 3/2)*(x - 4) + 255*(-x + 7)*(-x/2 + 4)*(x/5 - 1/5)*(x/4 - 1/2)*(x/3 - 1)*(x/2 - 2)*(x - 5) + 255*(-x + 8)*(x/6 - 1/6)*(x/5 - 2/5)*(x/4 - 3/4)*(x/3 - 4/3)*(x/2 - 5/2)*(x - 6) + 255*(x/7 - 1/7)*(x/6 - 1/3)*(x/5 - 3/5)*(x/4 - 1)*(x/3 - 5/3)*(x/2 - 3)*(x - 7)\n"
     ]
    },
    {
     "data": {
      "text/plain": [
       "1"
      ]
     },
     "execution_count": 104,
     "metadata": {},
     "output_type": "execute_result"
    }
   ],
   "source": [
    "y = [0, 255, 255, 255, 255, 255, 255, 255]\n",
    "funcion = metodoLagrange(y)\n",
    "print(funcion)\n",
    "busquedaIncremental(str(funcion), 0,1)"
   ]
  },
  {
   "cell_type": "code",
   "execution_count": 5,
   "metadata": {},
   "outputs": [],
   "source": [
    "# Metodo de deteccion por cruces de busqueda Incremental\n",
    "def busquedaIncremental(funcion,puntoInicial,incremento,error,iteraciones):\n",
    "    fun = vars(math) \n",
    "    \n",
    "    if abs(eval(funcion,fun,{'x': puntoInicial})) <= error:\n",
    "        return puntoInicial #retorna el punto inicial si es solucion\n",
    "\n",
    "    puntoNuevo = puntoInicial + incremento # calcula xn segun el metodo\n",
    "    \n",
    "    #itera si f(xi) y f(xn) tienen signos iguales o alcanza el maximo de iteraciones\n",
    "    while eval(funcion,fun,{'x': puntoInicial})*eval(funcion,fun,{'x': puntoNuevo}) > 0 and iteraciones > 0:\n",
    "        \n",
    "        puntoInicial = puntoNuevo # aumenta el punto inicial\n",
    "        puntoNuevo = puntoInicial + incremento # calcula xn segun el metodo\n",
    "        \n",
    "        iteraciones -= 1 # reduce en 1 el numero de iteraciones\n",
    "    \n",
    "    # mensaje si no enceuntra solucion en las x iteraciones\n",
    "    if iteraciones == 0:\n",
    "        return('no se encontro la raiz en el numero maximo de iteraciones')\n",
    "    \n",
    "    return puntoNuevo #retorna xn como solucion a f(x)"
   ]
  },
  {
   "cell_type": "code",
   "execution_count": 10,
   "metadata": {},
   "outputs": [
    {
     "data": {
      "image/png": "[encoded data removed]",
      "text/plain": [
       "<Figure size 432x288 with 1 Axes>"
      ]
     },
     "metadata": {},
     "output_type": "display_data"
    }
   ],
   "source": [
    "\n",
    "for i in range(imagen.shape[0]):\n",
    "    for j in range(imagen.shape[1]):\n",
    "        \n",
    "        bloque = imagen[i,j:j+7]\n",
    "        \n",
    "        if sum(1 for i in bloque if i > 0) < 7  and sum(1 for i in bloque if i > 0) > 0 :\n",
    "            #print(bloque, sum(1 for i in bloque if i > 0))\n",
    "            \n",
    "            funcion = metodoLagrange(bloque)\n",
    "            indice = busquedaIncremental(str(funcion), 0,1)\n",
    "            #print(bloque)\n",
    "            #print(indice);\n",
    "            j +=7\n",
    "            nuevaImagen[i,j+indice]= 255\n",
    "            \n",
    "            \n",
    "plt.imshow(nuevaImagen) #visualización de la imagen\n",
    "plt.show()   \n",
    "#plt.imshow(imagen) #visualización de la imagen\n",
    "#plt.show() "
   ]
  },
  {
   "cell_type": "code",
   "execution_count": 7,
   "metadata": {},
   "outputs": [],
   "source": [
    "def busquedaIncremental(funcion,punto_inicial,incremento):\n",
    "    \n",
    "    fun = vars(math) #nos aseguramos que podamos utilizar funciones trigonométricas u otras funciones especiales\n",
    "    umbral= 0.00001 #Definimos el umbral del error igual a 10^-5\n",
    "    \n",
    "    Fxi = eval(funcion,fun,{'x':punto_inicial}) #Valor de la función ingresada en el punto inicial recien ingresado \n",
    "\n",
    "# Si en primera instancia el valor de la funcion evaluada en el punto inicial es menor al umbral\n",
    "# entonces se toma este punto como el valor de la raiz y se retorna \n",
    "    if(abs(Fxi) <= umbral):\n",
    "        raiz = punto_inicial\n",
    "        return raiz\n",
    "\n",
    "#Como el punto inicial no fué la raíz entonces se le suma el incremento para volver a realizar la evaluación\n",
    "    \n",
    "    punto_nuevo = punto_inicial + incremento\n",
    "\n",
    "#Se establece un contador para establecer un limite de iteraciones iniciado en cero \n",
    "    cont = 0\n",
    "    # Se calcula que la multiplicación de la funcion evaluada en el punto nuevo por la misma en el punto inicial sea mayor a cero \n",
    "    # esto significa que los resultados fueron positivos indicando que las funciones evaluadas no se han pasado de la raiz \n",
    "    # además de que las iteraciones sean menor a las establecidas en el contador.\n",
    "    while(eval(funcion,fun,{'x':punto_nuevo}) * eval(funcion,fun,{'x':punto_inicial}) > 0 and cont <= 30):\n",
    "            punto_inicial= punto_nuevo\n",
    "            punto_nuevo = punto_inicial + incremento\n",
    "            cont= cont + 1\n",
    "    # se reemplaza el punto incial por el nuevo y al nuevo le acemos el incremento establecido par ser evaluado en el proximo ciclo \n",
    "\n",
    "    if(cont == 30):\n",
    "    #se vuelve a realizar la evaluacion de la función en el punto nuevo si es menor que el umbral pero esta vez en valor absoluto\n",
    "    # esto por si depronto el resultado se paso un poco de la raiz pero de todas maneras se puede tomar como valor de la raiz y se \n",
    "    # retorna en caso de ser verdadero el resultado \n",
    "\n",
    "        return -99999999999\n",
    "    \n",
    "    return punto_nuevo"
   ]
  },
  {
   "cell_type": "code",
   "execution_count": 9,
   "metadata": {},
   "outputs": [
    {
     "data": {
      "image/png": "[encoded data removed]",
      "text/plain": [
       "<Figure size 432x288 with 1 Axes>"
      ]
     },
     "metadata": {},
     "output_type": "display_data"
    },
    {
     "name": "stdout",
     "output_type": "stream",
     "text": [
      "(422, 434)\n",
      "(422, 434, 3)\n"
     ]
    }
   ],
   "source": [
    "nuevaImagen = np.zeros((imagen.shape[0],imagen.shape[1],3), np.uint8) #crea una imagen negra\n",
    "plt.imshow(nuevaImagen) #visualización de la imagen\n",
    "plt.show()\n",
    "print(imagen.shape)\n",
    "print(nuevaImagen.shape)"
   ]
  }
 ],
 "metadata": {
  "kernelspec": {
   "display_name": "Python 3",
   "language": "python",
   "name": "python3"
  },
  "language_info": {
   "codemirror_mode": {
    "name": "ipython",
    "version": 3
   },
   "file_extension": ".py",
   "mimetype": "text/x-python",
   "name": "python",
   "nbconvert_exporter": "python",
   "pygments_lexer": "ipython3",
   "version": "3.6.5"
  }
 },
 "nbformat": 4,
 "nbformat_minor": 2
}
