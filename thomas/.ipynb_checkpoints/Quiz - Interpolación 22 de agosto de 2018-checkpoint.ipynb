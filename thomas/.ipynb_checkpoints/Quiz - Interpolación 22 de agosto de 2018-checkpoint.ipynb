{
 "cells": [
  {
   "cell_type": "markdown",
   "metadata": {},
   "source": [
    "# Quiz -Interpolación 22 de agosto de 2018\n",
    "\n",
    "## Nombre: Thomas Gil Noriega y Julian David Cataño"
   ]
  },
  {
   "cell_type": "markdown",
   "metadata": {},
   "source": [
    "Se ha recibido la siguiente imagen y se le ha encomendado eliminar el color rosa de la mitad (a la persona que se lo envío no le gusta ese color). La idea es cambiar dicho color por una combinación de los colores del centro y de la parte exterior usando una técnica de interpolación, bajo las siguientes condiciones:\n",
    "\n",
    "1. La técnica de interpolación (Lagrange o Newton) debe ser implementada por usted, no se pueden utilizar funciones de interpolación de alguna librería pre-existente de python.\n",
    "2. En la técnica se deben utilizar píxeles del círculo exterior **Y** del círculo interior como vecinos (**ambos**).\n",
    "3. El orden del polinomio debe ser libre de elegir en un rango de 3 a 8 (**el usuario debe poder elegir cualquier valor en ese rango**)\n",
    "4. Todo debe estar **completamente** comentado, de tal forma que el código se pueda explicar **SOLO** con los comentarios\n",
    "5. No cambie el nombre del notebook, pero recuerde poner su **Nombre** en la parte superior.\n",
    "\n",
    "![Imagen](Imagen_Quiz.png)"
   ]
  },
  {
   "cell_type": "code",
   "execution_count": 385,
   "metadata": {
    "collapsed": true
   },
   "outputs": [],
   "source": [
    "#espacio para solucionar el quiz\n",
    "#importar librerias necesarias\n",
    "import numpy as np\n",
    "import copy\n",
    "import cv2\n",
    "\n",
    "#cargar la imagen a corregir\n",
    "img = cv2.imread('Imagen_Quiz.png',1)\n",
    "imgNewton = cv2.imread('Imagen_Quiz.png',1)\n",
    "cv2.imshow('imagen',img)\n",
    "cv2.waitKey(0)\n",
    "cv2.destroyAllWindows()"
   ]
  },
  {
   "cell_type": "code",
   "execution_count": 386,
   "metadata": {
    "collapsed": true
   },
   "outputs": [],
   "source": [
    "def metodoLagrange(datos):\n",
    "    pixel = 0 #inicializa la var que tendra el resultado de la interpolacion\n",
    "    grado = len(datos) #grado ingresado por teclado\n",
    "    x = -(-grado // 2) #ubica la x en la mitad del vector Y\n",
    "    \n",
    "    # formula de interpolacion de Lagrange\n",
    "    for k in range(grado):\n",
    "        if k != (x-1) :\n",
    "            productoria = 1\n",
    "            \n",
    "            for i in range(grado):\n",
    "                if (i != k) and i != (x-1):\n",
    "                    productoria *= ((x) - (i+1))/((k+1) - (i+1))\n",
    "                    \n",
    "            productoria = productoria * datos[k]        \n",
    "            pixel += productoria\n",
    "\n",
    "    return int(round(pixel))"
   ]
  },
  {
   "cell_type": "code",
   "execution_count": 387,
   "metadata": {
    "collapsed": true
   },
   "outputs": [],
   "source": [
    "def calcularDiferenciasFinitas(tabla):\n",
    "    \n",
    "    #indice del alfa\n",
    "    numDif = len(tabla)\n",
    "    #vectores de deferencias correspondientes\n",
    "    Xi = tabla[numDif-1][0]\n",
    "    Yi = tabla[numDif-1][1]\n",
    "    \n",
    "    #aqui se guardara el calculo de las diferencias divididas\n",
    "    tempYi = []\n",
    "    \n",
    "    #print(Xi)\n",
    "    #print(Yi)\n",
    "    \n",
    "    for i in range(len(Yi) - 1):\n",
    "        #numerador = int(Yi[i+1])\n",
    "        #print(numerador,' - ', Yi[i])\n",
    "        #numerador = numerador - int(Yi[i])\n",
    "        #print(numerador)\n",
    "        yi = (float(Yi[i+1]) - float(Yi[i])) / (Xi[i+numDif] - Xi[i])\n",
    "        #print('y(',numDif+i,',',i,') = ',Yi[i+1],' - ', Yi[i],'/', Xi[i+numDif],' - ',Xi[i], ' = ',yi)\n",
    "        tempYi.append(yi)\n",
    "        \n",
    "    #agrega el resultado de las diferencias a la tabla    \n",
    "    tabla.append([Xi,tempYi])\n",
    "    #print('')\n",
    "    \n",
    "    #llamada recursiva hasta que solo exista una diferencia\n",
    "    if len(tabla[numDif][1]) > 1:\n",
    "        calcularDiferenciasFinitas(tabla)"
   ]
  },
  {
   "cell_type": "code",
   "execution_count": 388,
   "metadata": {
    "collapsed": true
   },
   "outputs": [],
   "source": [
    "def metodoNewton(datos):\n",
    "    x = -(-grado // 2) #pixel objetivo en la mitad del vector\n",
    "    \n",
    "    #vectores a trabajar\n",
    "    Xi = []\n",
    "    Yi = []\n",
    "    diferenciasFinitas = []\n",
    "    \n",
    "    #llena el vector Yi saltando la posicion x\n",
    "    for i in range(len(datos)):\n",
    "        if i != (x-1):\n",
    "            Xi.append(i)\n",
    "            Yi.append(datos[i])\n",
    "    \n",
    "    #agrega el vector a la tabla de diferencias divididas finitas\n",
    "    diferenciasFinitas.append([Xi,Yi])\n",
    "    \n",
    "    #calcula las diferencias divididas finitas\n",
    "    calcularDiferenciasFinitas(diferenciasFinitas) \n",
    "    \n",
    "    #primer alfa\n",
    "    pixel = diferenciasFinitas[0][1][0] ## alfa0 = Y0\n",
    "    \n",
    "    #calcula x segun metodo newton\n",
    "    for i in range(len(Xi)-1):\n",
    "        \n",
    "        multiplicacionX = 1\n",
    "        for j in range(i+1):\n",
    "            multiplicacionX *= (x - (Xi[j]+1))\n",
    "\n",
    "        pixel += multiplicacionX * diferenciasFinitas[i+1][1][0]\n",
    "        \n",
    "    return int(round(pixel))"
   ]
  },
  {
   "cell_type": "code",
   "execution_count": 389,
   "metadata": {
    "collapsed": true
   },
   "outputs": [],
   "source": [
    "def interpoladorLagrange(fila,primero,ultimo,grado):\n",
    "    #cantidad de pixeles que coje a cada lado del objetivo\n",
    "    numeroVecinos = int(grado/2)\n",
    "    \n",
    "    for i in range(-(-(ultimo - primero) // 2)):\n",
    "        \n",
    "        #agrega los n/2 pixeles de la izquierda\n",
    "        datos = fila[primero - numeroVecinos: primero]\n",
    "        #agrega el primer pixel objetivo\n",
    "        datos.extend([fila[primero]])\n",
    "        #agrega los n/2 pixeles de la derecha\n",
    "        datos.extend(fila[ultimo: ultimo + numeroVecinos])\n",
    "        #realiza interpolacion\n",
    "        pixel = metodoLagrange(datos)\n",
    "        #reemplaza por el valor interpolado\n",
    "        fila[primero] = pixel\n",
    "\n",
    "        #agrega los n/2 pixeles de la izquierda\n",
    "        datos = fila[primero - numeroVecinos: primero]\n",
    "        #agrega el ultimo pixel objetivo\n",
    "        datos.extend([fila[ultimo-1]])\n",
    "        #agrega los n/2 pixeles de la derecha\n",
    "        datos.extend(fila[ultimo: ultimo + numeroVecinos])\n",
    "        #realiza interpolacion\n",
    "        pixel = metodoLagrange(datos)\n",
    "        #reemplaza por el valor interpolado\n",
    "        fila[ultimo - 1] = pixel\n",
    "        \n",
    "        #pasa al siguiente pixel a interpolar\n",
    "        primero += 1\n",
    "        #se devuelve al pixel anterior a interpolar\n",
    "        ultimo -= 1"
   ]
  },
  {
   "cell_type": "code",
   "execution_count": 390,
   "metadata": {
    "collapsed": true
   },
   "outputs": [],
   "source": [
    "#se hara interpolacion de grado n para intentar un mejor resutado, utilizando n/2 puntos a la derecha y n/2 a la izquierda\n",
    "#(estos no cuentan si estan en la zona dañada)\n",
    "def interpoladorNewton(fila,primero,ultimo,grado):\n",
    "    #cantidad de pixeles que coje a cada lado del objetivo\n",
    "    numeroVecinos = int(grado/2)\n",
    "    for i in range(-(-(ultimo - primero) // 2)):\n",
    "        datos = []\n",
    "        #agrega los n/2 pixeles de la izquierda\n",
    "        datos.extend(fila[primero - numeroVecinos: primero])\n",
    "        #agrega el primer pixel objetivo\n",
    "        datos.extend([fila[primero]])\n",
    "        #agrega los n/2 pixeles de la derecha\n",
    "        datos.extend(fila[ultimo: ultimo + numeroVecinos])\n",
    "        #realiza interpolacion\n",
    "        pixel = metodoNewton(datos)\n",
    "        #reemplaza por el valor interpolado\n",
    "        fila[primero] = pixel\n",
    "        \n",
    "        datos.clear()\n",
    "        #agrega los n/2 pixeles de la izquierda\n",
    "        datos = fila[primero - numeroVecinos: primero]\n",
    "        #agrega el primer pixel objetivo\n",
    "        datos.extend([fila[ultimo-1]])\n",
    "        #agrega los n/2 pixeles de la derecha\n",
    "        datos.extend(fila[ultimo: ultimo + numeroVecinos])\n",
    "        #realiza interpolacion\n",
    "        pixel = metodoNewton(datos)\n",
    "        #reemplaza por el valor interpolado\n",
    "        fila[ultimo - 1] = pixel\n",
    "        \n",
    "        #cierra la zona dañada en un pixel\n",
    "        primero += 1\n",
    "        ultimo -= 1"
   ]
  },
  {
   "cell_type": "code",
   "execution_count": 391,
   "metadata": {
    "collapsed": true
   },
   "outputs": [],
   "source": [
    "def buscarError(primero,ultimo,blue,green,red):\n",
    "    buscar = True\n",
    "    #busca mientras haya datos en el vector:\n",
    "    while(buscar and primero < len(blue) ):\n",
    "        #pregunta por el color a corregir\n",
    "        if (blue[primero] == 201 and green[primero] == 174 and red[primero] == 255):\n",
    "            #deja de buscar\n",
    "            buscar = False\n",
    "        else:\n",
    "            #sigue al siguiente pixel\n",
    "            primero += 1\n",
    "    \n",
    "    buscar = True\n",
    "    \n",
    "    #empieza desde el primer pixel de color a interpolar\n",
    "    ultimo = primero + 1\n",
    "    #busca mientras haya datos en el vector:\n",
    "    while(buscar and ultimo < len(blue) ):\n",
    "        #pregunta cuando cambia color a corregir\n",
    "        if (blue[ultimo] != 201 and green[ultimo] != 174 and red[ultimo] != 255):\n",
    "            #deja de bucar\n",
    "            buscar = False\n",
    "        else:\n",
    "            #sigue al siguiente pixel\n",
    "            ultimo += 1\n",
    "    #devuelve los pixeles donde empiezan y termina el color a interpolar            \n",
    "    return primero, ultimo"
   ]
  },
  {
   "cell_type": "code",
   "execution_count": 392,
   "metadata": {
    "collapsed": true
   },
   "outputs": [],
   "source": [
    "def juntarImagenesHorizontal(horizontal,img):\n",
    "    #recorre toda la matriz\n",
    "    for i in range(img.shape[0]):\n",
    "        for j in range(img.shape[1]):\n",
    "            #busca el color interpolado\n",
    "            if (horizontal[i,j,0] == 120 ) and (horizontal[i,j,1] == 50) and (horizontal[i,j,2] == 150):\n",
    "                #cambia el color interpolado en la img original\n",
    "                img[i,j,0] = 120\n",
    "                img[i,j,1] = 50\n",
    "                img[i,j,2] = 150"
   ]
  },
  {
   "cell_type": "code",
   "execution_count": 393,
   "metadata": {
    "collapsed": true
   },
   "outputs": [],
   "source": [
    "def juntarImagenesVertical(vertical,img):\n",
    "    #recorre toda la matriz\n",
    "    for i in range(img.shape[0]):\n",
    "        for j in range(img.shape[1]):\n",
    "            #busca el color interpolado\n",
    "            if (vertical[i,j,0] == 120 ) and (vertical[i,j,1] == 50) and (vertical[i,j,2] == 150):\n",
    "                #cambia el color interpolado en la img original\n",
    "                img[i,j,0] = 120\n",
    "                img[i,j,1] = 50\n",
    "                img[i,j,2] = 150"
   ]
  },
  {
   "cell_type": "code",
   "execution_count": 394,
   "metadata": {
    "collapsed": true
   },
   "outputs": [],
   "source": [
    "#crea una imgaen para interpolar horizontal y verticalmente\n",
    "imgHorizontal = copy.deepcopy(img)\n",
    "imgVertical = copy.deepcopy(img)\n",
    "\n",
    "imgHorizontalN = copy.deepcopy(img)\n",
    "imgVerticalN = copy.deepcopy(img)"
   ]
  },
  {
   "cell_type": "code",
   "execution_count": 395,
   "metadata": {},
   "outputs": [
    {
     "name": "stdout",
     "output_type": "stream",
     "text": [
      "ingrese grado que quiere 3\n"
     ]
    }
   ],
   "source": [
    "#numero de datos para interpolar\n",
    "grado = int(input('ingrese grado que quiere '))\n",
    "#valida el ragno del grado entre 3 y 8\n",
    "if grado >= 3 and grado <= 8:\n",
    "    \n",
    "    for i in range(len(img)):\n",
    "        #separa la imagen en vectores bgr horizontalmente\n",
    "        blueHorizontal = [x for x in img[i,:,0]]\n",
    "        greenHorizontal = [x for x in img[i,:,1]]\n",
    "        redHorizontal = [x for x in img[i,:,2]]\n",
    "\n",
    "        #separa la imagen en vectores bgr verticalmente\n",
    "        blueVertical = [x for x in img[:,i,0]]\n",
    "        greenVertical = [x for x in img[:,i,1]]\n",
    "        redVertical = [x for x in img[:,i,2]]\n",
    "\n",
    "        primero = 0\n",
    "        ultimo = 0\n",
    "\n",
    "        #mientas el ultimo pixel este dentro del limite\n",
    "        while (ultimo < len(img)):\n",
    "            #busca donde esta el primer y ultimo pixel de una zona a interpolar\n",
    "            primero, ultimo = buscarError(primero,ultimo,blueHorizontal,greenHorizontal,redHorizontal)\n",
    "\n",
    "            #pregunta si hay pixeles a interpolar\n",
    "            if primero != ultimo and (ultimo-primero) >= 2 :\n",
    "\n",
    "                #interpola cada uno de los canales bgr horizontalmente\n",
    "                interpoladorLagrange(blueHorizontal,primero,ultimo,grado)\n",
    "                imgHorizontal[i,:,0] = blueHorizontal\n",
    "                interpoladorLagrange(greenHorizontal,primero,ultimo,grado)\n",
    "                imgHorizontal[i,:,1] = greenHorizontal\n",
    "                interpoladorLagrange(redHorizontal,primero,ultimo,grado)\n",
    "                imgHorizontal[i,:,2] = redHorizontal\n",
    "\n",
    "            #sigue buscando otros puntos del color a interpolar\n",
    "            primero = ultimo\n",
    "\n",
    "        primero = 0\n",
    "        ultimo = 0\n",
    "\n",
    "        #mientas el ultimo pixel este dentro del limite\n",
    "        while (ultimo < len(img)):\n",
    "            #busca donde esta el primer y ultimo pixel de una zona a interpolar\n",
    "            primero, ultimo = buscarError(primero,ultimo,blueVertical,greenVertical,redVertical)\n",
    "            #pregunta si hay pixeles a interpolar\n",
    "            if primero != ultimo and (ultimo-primero) >= 2 :\n",
    "                #interpola cada uno de los canales bgr verticalmente\n",
    "                interpoladorLagrange(blueVertical,primero,ultimo,grado)\n",
    "                imgVertical[:,i,0] = blueVertical\n",
    "                interpoladorLagrange(greenVertical,primero,ultimo,grado)\n",
    "                imgVertical[:,i,1] = greenVertical\n",
    "                interpoladorLagrange(redVertical,primero,ultimo,grado)\n",
    "                imgVertical[:,i,2] = redVertical\n",
    "            #sigue buscando otros puntos del color a interpolar    \n",
    "            primero = ultimo\n",
    "            \n",
    "    #corrige la imgaen original con los valores intepolados\n",
    "    juntarImagenesHorizontal(imgHorizontal,img)\n",
    "    juntarImagenesVertical(imgVertical,img)\n",
    "\n",
    "    #muestra la imagen interpolada horizontalmente\n",
    "    cv2.imshow('imagen horizontal',imgHorizontal)\n",
    "    cv2.waitKey(0)\n",
    "    cv2.destroyAllWindows()\n",
    "\n",
    "    #muestra la imagen interpolada verticalmente\n",
    "    cv2.imshow('imagen vertical',imgVertical)\n",
    "    cv2.waitKey(0)\n",
    "    cv2.destroyAllWindows()\n",
    "\n",
    "    #muestra la imagen corregida por completo\n",
    "    cv2.imshow('imagen interpolada completamente',img)\n",
    "    cv2.waitKey(0)\n",
    "    cv2.destroyAllWindows()\n",
    "    cv2.imwrite('interpolar.png',img)\n",
    "else: \n",
    "    print('grado no valido')"
   ]
  },
  {
   "cell_type": "code",
   "execution_count": 396,
   "metadata": {},
   "outputs": [
    {
     "name": "stdout",
     "output_type": "stream",
     "text": [
      "ingrese grado que quiere 3\n"
     ]
    }
   ],
   "source": [
    "#numero de datos para interpolar\n",
    "grado = int(input('ingrese grado que quiere '))\n",
    "#valida el ragno del grado entre 3 y 8\n",
    "if grado >= 3 and grado <= 8:\n",
    "    \n",
    "    for i in range(len(imgNewton)):\n",
    "        #separa la imagen en vectores bgr horizontalmente\n",
    "        blueHorizontal = [x for x in imgNewton[i,:,0]]\n",
    "        greenHorizontal = [x for x in imgNewton[i,:,1]]\n",
    "        redHorizontal = [x for x in imgNewton[i,:,2]]\n",
    "\n",
    "        #separa la imagen en vectores bgr verticalmente\n",
    "        blueVertical = [x for x in imgNewton[:,i,0]]\n",
    "        greenVertical = [x for x in imgNewton[:,i,1]]\n",
    "        redVertical = [x for x in imgNewton[:,i,2]]\n",
    "\n",
    "        primero = 0\n",
    "        ultimo = 0\n",
    "\n",
    "        #mientas el ultimo pixel este dentro del limite\n",
    "        while (ultimo < len(img)):\n",
    "            #busca donde esta el primer y ultimo pixel de una zona a interpolar\n",
    "            primero, ultimo = buscarError(primero,ultimo,blueHorizontal,greenHorizontal,redHorizontal)\n",
    "\n",
    "            #pregunta si hay pixeles a interpolar\n",
    "            if primero != ultimo and (ultimo-primero) >= 2 :\n",
    "\n",
    "                #interpola cada uno de los canales bgr horizontalmente\n",
    "                interpoladorNewton(blueHorizontal,primero,ultimo,grado)\n",
    "                imgHorizontalN[i,:,0] = blueHorizontal\n",
    "                interpoladorNewton(greenHorizontal,primero,ultimo,grado)\n",
    "                imgHorizontalN[i,:,1] = greenHorizontal\n",
    "                interpoladorNewton(redHorizontal,primero,ultimo,grado)\n",
    "                imgHorizontalN[i,:,2] = redHorizontal\n",
    "\n",
    "            #sigue buscando otros puntos del color a interpolar\n",
    "            primero = ultimo\n",
    "\n",
    "        primero = 0\n",
    "        ultimo = 0\n",
    "\n",
    "        #mientas el ultimo pixel este dentro del limite\n",
    "        while (ultimo < len(img)):\n",
    "            #busca donde esta el primer y ultimo pixel de una zona a interpolar\n",
    "            primero, ultimo = buscarError(primero,ultimo,blueVertical,greenVertical,redVertical)\n",
    "            #pregunta si hay pixeles a interpolar\n",
    "            if primero != ultimo and (ultimo-primero) >= 2 :\n",
    "                #interpola cada uno de los canales bgr verticalmente\n",
    "                interpoladorNewton(blueVertical,primero,ultimo,grado)\n",
    "                imgVerticalN[:,i,0] = blueVertical\n",
    "                interpoladorNewton(greenVertical,primero,ultimo,grado)\n",
    "                imgVerticalN[:,i,1] = greenVertical\n",
    "                interpoladorNewton(redVertical,primero,ultimo,grado)\n",
    "                imgVerticalN[:,i,2] = redVertical\n",
    "            #sigue buscando otros puntos del color a interpolar    \n",
    "            primero = ultimo\n",
    "            \n",
    "    #corrige la imgaen original con los valores intepolados\n",
    "    juntarImagenesHorizontal(imgHorizontalN,imgNewton)\n",
    "    juntarImagenesVertical(imgVerticalN,imgNewton)\n",
    "\n",
    "    #muestra la imagen interpolada horizontalmente\n",
    "    cv2.imshow('imagen horizontal newton',imgHorizontalN)\n",
    "    cv2.waitKey(0)\n",
    "    cv2.destroyAllWindows()\n",
    "\n",
    "    #muestra la imagen interpolada verticalmente\n",
    "    cv2.imshow('imagen vertical newton',imgVerticalN)\n",
    "    cv2.waitKey(0)\n",
    "    cv2.destroyAllWindows()\n",
    "\n",
    "    #muestra la imagen corregida por completo\n",
    "    cv2.imshow('imagen interpolada completamente por newton',imgNewton)\n",
    "    cv2.waitKey(0)\n",
    "    cv2.destroyAllWindows()\n",
    "    cv2.imwrite('interpolar.png',img)\n",
    "else: \n",
    "    print('grado no valido')"
   ]
  },
  {
   "cell_type": "code",
   "execution_count": null,
   "metadata": {
    "collapsed": true
   },
   "outputs": [],
   "source": []
  },
  {
   "cell_type": "code",
   "execution_count": null,
   "metadata": {
    "collapsed": true
   },
   "outputs": [],
   "source": []
  },
  {
   "cell_type": "code",
   "execution_count": null,
   "metadata": {
    "collapsed": true
   },
   "outputs": [],
   "source": []
  },
  {
   "cell_type": "code",
   "execution_count": null,
   "metadata": {
    "collapsed": true
   },
   "outputs": [],
   "source": []
  },
  {
   "cell_type": "code",
   "execution_count": null,
   "metadata": {
    "collapsed": true
   },
   "outputs": [],
   "source": []
  },
  {
   "cell_type": "code",
   "execution_count": null,
   "metadata": {
    "collapsed": true
   },
   "outputs": [],
   "source": []
  }
 ],
 "metadata": {
  "kernelspec": {
   "display_name": "Python 3",
   "language": "python",
   "name": "python3"
  },
  "language_info": {
   "codemirror_mode": {
    "name": "ipython",
    "version": 3
   },
   "file_extension": ".py",
   "mimetype": "text/x-python",
   "name": "python",
   "nbconvert_exporter": "python",
   "pygments_lexer": "ipython3",
   "version": "3.6.5"
  }
 },
 "nbformat": 4,
 "nbformat_minor": 2
}
