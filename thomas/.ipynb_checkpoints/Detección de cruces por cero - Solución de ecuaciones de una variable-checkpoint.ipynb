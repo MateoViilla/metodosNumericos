{
 "cells": [
  {
   "cell_type": "markdown",
   "metadata": {},
   "source": [
    "# Detección de cruces por cero - Solución de ecuaciones de una variable\n",
    "\n",
    "Recuerda que encontrar la solución de una ecuación de una variable equivale a encontrar las raices de la ecuación o los cruces por cero."
   ]
  },
  {
   "cell_type": "code",
   "execution_count": 1,
   "metadata": {},
   "outputs": [
    {
     "data": {
      "text/plain": [
       "\"\\nfrom sympy import * #agregamos la libraría simbólica para trabajar con variables\\nimport numpy as np\\nimport math\\n\\nx = Symbol('x') #se declara la variable x como simbólica\\nfun = vars(math) #nos aseguramos que podamos utilizar funciones trigonométricas u otras funciones especiales\\nfuncion = input('Ingrese la función o ecuación que desea solucionar: ') #se pide la ecuación al usuario\\nfuncion_evaluada = eval(funcion,fun,{'x':2}) #con esta línea podemos evaluar la funció en un punto. En este caso le asignamos\\n#a x el valor de dos\\nprint('La función evaluada en 2 es: ', funcion_evaluada)\\n\""
      ]
     },
     "execution_count": 1,
     "metadata": {},
     "output_type": "execute_result"
    }
   ],
   "source": [
    "\"\"\"\n",
    "from sympy import * #agregamos la libraría simbólica para trabajar con variables\n",
    "import numpy as np\n",
    "import math\n",
    "\n",
    "x = Symbol('x') #se declara la variable x como simbólica\n",
    "fun = vars(math) #nos aseguramos que podamos utilizar funciones trigonométricas u otras funciones especiales\n",
    "funcion = input('Ingrese la función o ecuación que desea solucionar: ') #se pide la ecuación al usuario\n",
    "funcion_evaluada = eval(funcion,fun,{'x':2}) #con esta línea podemos evaluar la funció en un punto. En este caso le asignamos\n",
    "#a x el valor de dos\n",
    "print('La función evaluada en 2 es: ', funcion_evaluada)\n",
    "\"\"\""
   ]
  },
  {
   "cell_type": "markdown",
   "metadata": {},
   "source": [
    "** Actividad 1**\n",
    "\n",
    "Encuentra la solución de una ecuación ingresada por el usuario a través de los diferentes métodos vistos en clase. Compara las respuestas y establece el mejor método de acuerdo a la solución. Pide al usuario los datos que creas necesarios, como los intervalos y los puntos iniciales."
   ]
  },
  {
   "cell_type": "code",
   "execution_count": 2,
   "metadata": {
    "collapsed": true
   },
   "outputs": [],
   "source": [
    "#espacio para solucionar la actividad 1\n",
    "from sympy import * #agregamos la libraría simbólica para trabajar con variables\n",
    "import numpy as np\n",
    "import math"
   ]
  },
  {
   "cell_type": "code",
   "execution_count": 3,
   "metadata": {
    "collapsed": true
   },
   "outputs": [],
   "source": [
    "# Metodo de deteccion por cruces de busqueda Incremental\n",
    "def busquedaIncremental(funcion,puntoInicial,incremento,error):\n",
    "    iteraciones = 30 #numero maximo de iteraciones\n",
    "    fun = vars(math) \n",
    "    \n",
    "    if abs(eval(funcion,fun,{'x': puntoInicial})) <= error:\n",
    "        return puntoInicial #retorna el punto inicial si es solucion\n",
    "\n",
    "    puntoNuevo = puntoInicial + incremento # calcula xn segun el metodo\n",
    "    \n",
    "    #itera si f(xi) y f(xn) tienen signos iguales o alcanza el maximo de iteraciones\n",
    "    while eval(funcion,fun,{'x': puntoInicial})*eval(funcion,fun,{'x': puntoNuevo}) > 0 and iteraciones > 0:\n",
    "        \n",
    "        puntoInicial = puntoNuevo # aumenta el punto inicial\n",
    "        puntoNuevo = puntoInicial + incremento # calcula xn segun el metodo\n",
    "        \n",
    "        iteraciones -= 1 # reduce en 1 el numero de iteraciones\n",
    "    \n",
    "    # mensaje si no enceuntra solucion en las x iteraciones\n",
    "    if iteraciones == 0:\n",
    "        return('no se encontro la raiz en el numero maximo de iteraciones')\n",
    "    \n",
    "    return puntoNuevo #retorna xn como solucion a f(x)"
   ]
  },
  {
   "cell_type": "code",
   "execution_count": 4,
   "metadata": {
    "collapsed": true
   },
   "outputs": [],
   "source": [
    "# Metodo de deteccion por cruces de biseccion\n",
    "def biseccion(funcion,intervalo,error):\n",
    "    iteraciones = 30 # numero maximo de iteraciones\n",
    "    fun = vars(math)\n",
    "    xi = intervalo[0] # valor inferior del intervalo xi\n",
    "    xd = intervalo[1] # valor superior del intervalo xd\n",
    "  \n",
    "    if abs(eval(funcion,fun,{'x':xi})) <= error:\n",
    "        return xi #retorna xi si es solucion a f(x)\n",
    "    if abs(eval(funcion,fun,{'x':xd})) <= error:\n",
    "        return xd #retorna xd si es solucion a f(x)\n",
    "    \n",
    "    xn = (xi + xd) / 2 # calcula xn segun el metodo\n",
    "    \n",
    "    #itera si no ha encontrado solucion a f(x) o alcanza el maximo de iteraciones\n",
    "    while abs(eval(funcion,fun,{'x':xn})) >= error and iteraciones > 0:\n",
    "        \n",
    "        if eval(funcion,fun,{'x':xi}) * eval(funcion,fun,{'x':xn}) > 0: # si f(xi) y f(xn) tienen signos iguales\n",
    "            xi = xn # reasigna los limites del intervalo\n",
    "        else:  \n",
    "            xd = xn # reasigna los limites del intervalo\n",
    "        xn = (xi + xd) / 2 # calcula xn segun el metodo\n",
    "                \n",
    "        iteraciones -= 1 # reduce en 1 el numero de iteraciones\n",
    "        \n",
    "    # mensaje si no enceuntra solucion en las x iteraciones    \n",
    "    if iteraciones == 0:\n",
    "        return('no se encontro la raiz en el numero maximo de iteraciones')\n",
    "\n",
    "    return xn #retorna xn como solucion a f(x)"
   ]
  },
  {
   "cell_type": "code",
   "execution_count": 5,
   "metadata": {
    "collapsed": true
   },
   "outputs": [],
   "source": [
    "# Calculo de tangente en xi y xd\n",
    "def tangenteTheta(funcion,xi,xd):\n",
    "    fun = vars(math)\n",
    "    return (eval(funcion,fun,{'x':xd}) -  eval(funcion,fun,{'x':xi})) / (xd - xi)"
   ]
  },
  {
   "cell_type": "code",
   "execution_count": 6,
   "metadata": {
    "collapsed": true
   },
   "outputs": [],
   "source": [
    "# Metodo de deteccion por cruces de falsa posicicon \n",
    "def falsaPosicion(funcion,intervalo,error):\n",
    "    iteraciones = 100 #numero maximo de iteraciones\n",
    "    fun = vars(math)\n",
    "    xi = intervalo[0] # valor inferior del intervalo xi\n",
    "    xd = intervalo[1] # valor superior del intervalo xd\n",
    "  \n",
    "    if abs(eval(funcion,fun,{'x':xi})) <= error:\n",
    "        return xi #retorna xi si es solucion a f(x)\n",
    "    if abs(eval(funcion,fun,{'x':xd})) <= error:\n",
    "        return xd #retorna xd si es solucion a f(x)\n",
    "    try:    \n",
    "        xn = xd - eval(funcion,fun,{'x':xd}) / tangenteTheta(funcion,xi,xd) # calcula xn segun el metodo\n",
    "    except:\n",
    "        print('division por 0')\n",
    "        \n",
    "    #itera si no ha encontrado solucion a f(x) o alcanza el maximo de iteraciones    \n",
    "    while abs(eval(funcion,fun,{'x':xn})) >= error and iteraciones > 0:\n",
    "        \n",
    "        if eval(funcion,fun,{'x':xi}) * eval(funcion,fun,{'x':xn}) > 0: # si f(xi) y f(xn) tienen signos iguales\n",
    "            xi = xn #reasigna los limites del intervalo\n",
    "        else: \n",
    "            xd = xn #reasigna los limites del intervalo\n",
    "        try:    \n",
    "            xn = xd - eval(funcion,fun,{'x':xd}) / tangenteTheta(funcion,xi,xd) # calcula xn segun el metodo\n",
    "        except:\n",
    "            print('division por 0')\n",
    "            \n",
    "        iteraciones -= 1 # reduce en 1 el numero de iteraciones\n",
    "        \n",
    "    # mensaje si no enceuntra solucion en las x iteraciones    \n",
    "    if iteraciones == 0:\n",
    "        return ('no se encontro la raiz en el numero maximo de iteraciones', xn)\n",
    "    \n",
    "    return xn #retorna xn como solucion a f(x)"
   ]
  },
  {
   "cell_type": "code",
   "execution_count": 7,
   "metadata": {
    "collapsed": true
   },
   "outputs": [],
   "source": [
    "# Metodo de deteccion por cruces de Secante\n",
    "def secante(funcion,intervalo,error):\n",
    "    iteraciones = 30 #numero maximo de iteraciones\n",
    "    fun = vars(math)\n",
    "    xi = intervalo[0] # valor inferior del intervalo xi\n",
    "    xd = intervalo[1] # valor superior del intervalo xd\n",
    "    \n",
    "    if abs(eval(funcion,fun,{'x':xi})) <= error:\n",
    "        return xi #retorna xi si es solucion a f(x)\n",
    "    if abs(eval(funcion,fun,{'x':xd})) <= error:\n",
    "        return xd #retorna xd si es solucion a f(x)\n",
    "    \n",
    "    try:    \n",
    "        xn = xd - eval(funcion,fun,{'x':xd}) / tangenteTheta(funcion,xi,xd) # calcula xn segun el metodo\n",
    "    except:\n",
    "        print('division por 0')\n",
    "        \n",
    "    #itera si no ha encontrado solucion a f(x) o alcanza el maximo de iteraciones    \n",
    "    while abs(eval(funcion,fun,{'x':xn})) >= error and iteraciones > 0:\n",
    "        \n",
    "        #reasigna los limites del intervalo\n",
    "        xi = xd\n",
    "        xd = xn\n",
    "        \n",
    "        try:\n",
    "            xn = xd - eval(funcion,fun,{'x':xd}) / tangenteTheta(funcion,xi,xd) # calcula xn segun el metodo\n",
    "        except:\n",
    "            print('division por 0')\n",
    "            \n",
    "        iteraciones -= 1 # reduce en 1 el numero de iteraciones\n",
    "        \n",
    "    # mensaje si no enceuntra solucion en las x iteraciones    \n",
    "    if iteraciones == 0:\n",
    "        return('no se encontro la raiz en el numero maximo de iteraciones')\n",
    "    \n",
    "    return xn #retorna xn como solucion a f(x)"
   ]
  },
  {
   "cell_type": "code",
   "execution_count": null,
   "metadata": {
    "collapsed": true
   },
   "outputs": [],
   "source": [
    "# Metodo de deteccion por cruces de Newton-Rapson\n",
    "def newtonRapson(funcion,pInicial,error):\n",
    "    iteraciones = 30 #numero maximo de iteraciones\n",
    "    fun = vars(math)\n",
    "    xi = pInicial\n",
    "    \n",
    "    if abs(eval(funcion,fun,{'x':xi})) <= error:\n",
    "        return xi #retorna el punto inicial si es solucion\n",
    "    \n",
    "    try:\n",
    "        xn = xi - eval(funcion,fun,{'x':xi})/eval(str(diff(funcion,x)),fun,{'x':xi}) # calcula xn segun el metodo\n",
    "    except:\n",
    "        print('division por 0')\n",
    "    \n",
    "    #itera si no ha encontrado solucion a f(x) o alcanza el maximo de iteraciones\n",
    "    while abs(eval(funcion,fun,{'x':xn})) >= error and iteraciones > 0:\n",
    "        \n",
    "        xi = xn\n",
    "        try:\n",
    "            xn = xi - eval(funcion,fun,{'x':xi})/eval(str(diff(funcion,x)),fun,{'x':xi}) # calcula xn segun el metodo\n",
    "        except:\n",
    "            print('division por 0')\n",
    "            \n",
    "        iteraciones -= 1 # reduce en 1 el numero de iteraciones\n",
    "        \n",
    "    # mensaje si no enceuntra solucion en las x iteraciones    \n",
    "    if iteraciones == 0:\n",
    "        return('no se encontro la raiz en el numero maximo de iteraciones')\n",
    "    \n",
    "    return xn #retorna xn como solucion a f(x)"
   ]
  },
  {
   "cell_type": "code",
   "execution_count": null,
   "metadata": {},
   "outputs": [
    {
     "name": "stdout",
     "output_type": "stream",
     "text": [
      "\n",
      " 0. Salir \n",
      " 1. busqueda Incremental \n",
      " 2. Biseccion \n",
      " 3. falsa posicion \n",
      " 4. Secante \n",
      " 5. Newton-Rapson\n",
      "\n",
      "ingrese numero del metodo elegido 2\n",
      "Ingrese la función o ecuación que desea solucionar: x**2 - 1\n",
      "ingrese el valor del error: 0.0001\n",
      "limite inferior del intervalo: 0\n",
      "limite superior del intervalo: 6\n",
      "La raiz de la funcion por Biseccion es:  1.000030517578125\n",
      "\n",
      " 0. Salir \n",
      " 1. busqueda Incremental \n",
      " 2. Biseccion \n",
      " 3. falsa posicion \n",
      " 4. Secante \n",
      " 5. Newton-Rapson\n",
      "\n",
      "ingrese numero del metodo elegido 1\n",
      "Ingrese la función o ecuación que desea solucionar: 255*x*(-x + 3)*(-x/2 + 2)*(-x/3 + 5/3)*(x - 1)/2 + 85*x*(-x + 4)*(-x/2 + 5/2)*(x/2 - 1/2)*(x - 2) + 255*x*(-x + 5)*(x/3 - 1/3)*(x/2 - 1)*(x - 3)/4 + 51*x*(x/4 - 1/4)*(x/3 - 2/3)*(x/2 - 3/2)*(x - 4) + 255*(-x + 1)*(-x/2 + 1)*(-x/3 + 1)*(-x/4 + 1)*(-x/5 + 1)\n",
      "ingrese el valor del error: 0.001\n",
      "ingrese el punto inicial para Xi: -1\n",
      "ingrese el valor de deltaX: 1\n",
      "La raiz de la funcion por Incremental es:  1.0\n",
      "\n",
      " 0. Salir \n",
      " 1. busqueda Incremental \n",
      " 2. Biseccion \n",
      " 3. falsa posicion \n",
      " 4. Secante \n",
      " 5. Newton-Rapson\n"
     ]
    }
   ],
   "source": [
    "x = Symbol('x') #se declara la variable x como simbólica\n",
    "fun = vars(math) #nos aseguramos que podamos utilizar funciones trigonométricas u otras funciones especiales\n",
    "\n",
    "menu = True\n",
    "while menu:\n",
    "    \n",
    "    #muestra opciones de metodos\n",
    "    print('\\n 0. Salir \\n 1. busqueda Incremental \\n 2. Biseccion \\n 3. falsa posicion \\n 4. Secante \\n 5. Newton-Rapson')\n",
    "\n",
    "    try:\n",
    "        opcion = int(input('\\ningrese numero del metodo elegido ')) # selecciona un metodo para resolver f(x)\n",
    "        while (opcion > 5 or opcion < 0):\n",
    "            print('ingese un numero de metodo valido')\n",
    "            opcion = int(input('ingrese numero del metodo elegido ')) # selecciona un metodo para resolver f(x)\n",
    "    except:\n",
    "        print('ingese un numero valido')\n",
    "        opcion = int(input('ingrese numero del metodo elegido ')) # selecciona un metodo para resolver f(x)\n",
    "    \n",
    "    if opcion == 0:\n",
    "        menu = False # sale del menu\n",
    "        \n",
    "    if menu:    \n",
    "        funcion = input('Ingrese la función o ecuación que desea solucionar: ') #se pide la ecuación al usuario\n",
    "        error = float(input('ingrese el valor del error: ')) #se pide la error al usuario\n",
    "        \n",
    "    if opcion == 1:\n",
    "        puntoInicial = float(input('ingrese el punto inicial para Xi: ')) # punto para empezar a evaluar f(x)\n",
    "        incremento = float(input('ingrese el valor de deltaX: ')) # incremento del deltaX\n",
    "        print('La raiz de la funcion por Incremental es: ', busquedaIncremental(funcion,puntoInicial,incremento,error)) #solucion a f(x) por Incremental\n",
    "    \n",
    "    elif opcion == 2:\n",
    "        xi = float(input('limite inferior del intervalo: ')) # punto para empezar a evaluar f(x)\n",
    "        xd = float(input('limite superior del intervalo: ')) # punto final para evaluar f(x)\n",
    "        print('La raiz de la funcion por Biseccion es: ', biseccion(funcion,[xi,xd],error)) #solucion a f(x) por Biseccion\n",
    "        \n",
    "    elif opcion == 3:\n",
    "        xi = float(input('limite inferior del intervalo: ')) # punto para empezar a evaluar f(x)\n",
    "        xd = float(input('limite superior del intervalo: ')) # punto final para evaluar f(x)\n",
    "        print('La raiz de la funcion por Falsa Posicion es: ', falsaPosicion(funcion,[xi,xd],error)) #solucion a f(x) por Falsa Posicion\n",
    "        \n",
    "    elif opcion == 4:\n",
    "        xi = float(input('limite inferior del intervalo: ')) # punto para empezar a evaluar f(x)\n",
    "        xd = float(input('limite superior del intervalo: ')) # punto final para evaluar f(x)\n",
    "        print('La raiz de la funcion por Secante es: ', secante(funcion,[xi,xd],error)) #solucion a f(x) por Secante\n",
    "        \n",
    "    elif opcion == 5:\n",
    "        puntoInicial = float(input('ingrese el punto inicial para Xi: ')) # punto para empezar a evaluar f(x)\n",
    "        print('La raiz de la funcion por Newton-Rapson es: ', newtonRapson(funcion,puntoInicial,error)) #solucion a f(x) por Newton-Rapson\n",
    "        "
   ]
  },
  {
   "cell_type": "code",
   "execution_count": null,
   "metadata": {},
   "outputs": [],
   "source": [
    "(x**3) - 9*(x**2) + 25*x*(1 + (sin(x)**2/ 25)) + (x*cos(x)**2) - 24"
   ]
  },
  {
   "cell_type": "code",
   "execution_count": null,
   "metadata": {},
   "outputs": [],
   "source": [
    "print(' 1. busqueda Incremental \\n 2. Biseccion \\n 3. falsa posicion \\n 4. Secante \\n 5. Newton-Rapson')"
   ]
  }
 ],
 "metadata": {
  "kernelspec": {
   "display_name": "Python 3",
   "language": "python",
   "name": "python3"
  },
  "language_info": {
   "codemirror_mode": {
    "name": "ipython",
    "version": 3
   },
   "file_extension": ".py",
   "mimetype": "text/x-python",
   "name": "python",
   "nbconvert_exporter": "python",
   "pygments_lexer": "ipython3",
   "version": "3.6.5"
  }
 },
 "nbformat": 4,
 "nbformat_minor": 2
}
